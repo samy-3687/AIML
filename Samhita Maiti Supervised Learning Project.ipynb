{
 "cells": [
  {
   "cell_type": "markdown",
   "metadata": {},
   "source": [
    "# Supervised Learning Project"
   ]
  },
  {
   "cell_type": "markdown",
   "metadata": {},
   "source": [
    "# Data Description:\n",
    "The file Bank.xls contains data on 5000 customers. The data include customer demographic information (age, income, etc.), the customer's relationship with the bank (mortgage, securities account, etc.), and the customer response to the last personal loan campaign (Personal Loan). Among these 5000 customers, only 480 (= 9.6%) accepted the personal loan that was offered to them in the earlier campaign."
   ]
  },
  {
   "cell_type": "markdown",
   "metadata": {},
   "source": [
    "# Domain:\n",
    "Banking"
   ]
  },
  {
   "cell_type": "markdown",
   "metadata": {},
   "source": [
    "# Context:\n",
    "This case is about a bank (Thera Bank) whose management wants to explore ways of converting its liability customers to personal loan customers (while retaining them as depositors). A campaign that the bank ran last year for liability customers showed a healthy conversion rate of over 9% success. This has encouraged the retail marketing department to devise campaigns with better target marketing to increase the success ratio with minimal budget."
   ]
  },
  {
   "cell_type": "markdown",
   "metadata": {},
   "source": [
    "# Learning Outcomes:\n",
    "     Exploratory Data Analysis\n",
    "     Preparing the data to train a model\n",
    "     Training and making predictions using a classification model\n",
    "     Model evaluation"
   ]
  },
  {
   "cell_type": "markdown",
   "metadata": {},
   "source": [
    "# Objective:\n",
    "The classification goal is to predict the likelihood of a liability customer buying personal loans."
   ]
  },
  {
   "cell_type": "markdown",
   "metadata": {},
   "source": [
    "# Steps and tasks:"
   ]
  },
  {
   "cell_type": "code",
   "execution_count": 1,
   "metadata": {},
   "outputs": [],
   "source": [
    "import numpy as np   \n",
    "from sklearn.linear_model import LinearRegression\n",
    "import pandas as pd    \n",
    "import matplotlib.pyplot as plt \n",
    "%matplotlib inline \n",
    "import seaborn as sns\n",
    "sns.set(color_codes=True)\n",
    "from sklearn.model_selection import train_test_split # Sklearn package's randomized data splitting function\n",
    "import warnings\n",
    "warnings.filterwarnings(\"ignore\")\n",
    "from PIL import Image \n",
    "import collections\n",
    "from scipy.stats import zscore"
   ]
  },
  {
   "cell_type": "markdown",
   "metadata": {},
   "source": [
    "# Step 1. Read the column description and ensure you understand each attribute well"
   ]
  },
  {
   "cell_type": "code",
   "execution_count": 2,
   "metadata": {},
   "outputs": [
    {
     "data": {
      "text/plain": [
       "(5000, 14)"
      ]
     },
     "execution_count": 2,
     "metadata": {},
     "output_type": "execute_result"
    }
   ],
   "source": [
    "Bank_Data = pd.read_csv(\"Bank_Personal_Loan_Modelling.csv\")  \n",
    "Bank_Data.shape"
   ]
  },
  {
   "cell_type": "code",
   "execution_count": 3,
   "metadata": {},
   "outputs": [
    {
     "data": {
      "text/plain": [
       "Index(['ID', 'Age', 'Experience', 'Income', 'ZIP Code', 'Family', 'CCAvg',\n",
       "       'Education', 'Mortgage', 'Personal Loan', 'Securities Account',\n",
       "       'CD Account', 'Online', 'CreditCard'],\n",
       "      dtype='object')"
      ]
     },
     "execution_count": 3,
     "metadata": {},
     "output_type": "execute_result"
    }
   ],
   "source": [
    "Bank_Data.columns #Illustrates the columns or features of the data"
   ]
  },
  {
   "cell_type": "markdown",
   "metadata": {},
   "source": [
    "# Attribute Information:\n",
    "     ID                 : Customer ID\n",
    "     Age                : Customer's age in completed years\n",
    "     Experience         : #years of professional experience\n",
    "     Income             : Annual income of the customer ($000)\n",
    " ZIP Code           : Home Address ZIP code.\n",
    " Family             : Family size of the customer\n",
    " CCAvg              : Avg. spending on credit cards per month ($000)\n",
    "     Education          : Education Level.\n",
    "                            1. Undergrad\n",
    "                            2. Graduate\n",
    "                            3. Advanced/Professional\n",
    "     Mortgage           : Value of house mortgage if any. ($000)\n",
    "     Personal Loan      : Did this customer accept the personal loan offered in the last campaign?\n",
    "     Securities Account : Does the customer have a securities account with the bank?\n",
    "     CD Account         : Does the customer have a certificate of deposit (CD) account with the bank?\n",
    "     Online             : Does the customer use internet banking facilities?\n",
    "     Credit card        : Does the customer use a credit card issued by Universal Bank?"
   ]
  },
  {
   "cell_type": "code",
   "execution_count": 4,
   "metadata": {},
   "outputs": [
    {
     "data": {
      "text/html": [
       "<div>\n",
       "<style scoped>\n",
       "    .dataframe tbody tr th:only-of-type {\n",
       "        vertical-align: middle;\n",
       "    }\n",
       "\n",
       "    .dataframe tbody tr th {\n",
       "        vertical-align: top;\n",
       "    }\n",
       "\n",
       "    .dataframe thead th {\n",
       "        text-align: right;\n",
       "    }\n",
       "</style>\n",
       "<table border=\"1\" class=\"dataframe\">\n",
       "  <thead>\n",
       "    <tr style=\"text-align: right;\">\n",
       "      <th></th>\n",
       "      <th>0</th>\n",
       "      <th>1</th>\n",
       "      <th>2</th>\n",
       "      <th>3</th>\n",
       "      <th>4</th>\n",
       "      <th>5</th>\n",
       "      <th>6</th>\n",
       "      <th>7</th>\n",
       "      <th>8</th>\n",
       "      <th>9</th>\n",
       "    </tr>\n",
       "  </thead>\n",
       "  <tbody>\n",
       "    <tr>\n",
       "      <td>ID</td>\n",
       "      <td>1.0</td>\n",
       "      <td>2.0</td>\n",
       "      <td>3.0</td>\n",
       "      <td>4.0</td>\n",
       "      <td>5.0</td>\n",
       "      <td>6.0</td>\n",
       "      <td>7.0</td>\n",
       "      <td>8.0</td>\n",
       "      <td>9.0</td>\n",
       "      <td>10.0</td>\n",
       "    </tr>\n",
       "    <tr>\n",
       "      <td>Age</td>\n",
       "      <td>25.0</td>\n",
       "      <td>45.0</td>\n",
       "      <td>39.0</td>\n",
       "      <td>35.0</td>\n",
       "      <td>35.0</td>\n",
       "      <td>37.0</td>\n",
       "      <td>53.0</td>\n",
       "      <td>50.0</td>\n",
       "      <td>35.0</td>\n",
       "      <td>34.0</td>\n",
       "    </tr>\n",
       "    <tr>\n",
       "      <td>Experience</td>\n",
       "      <td>1.0</td>\n",
       "      <td>19.0</td>\n",
       "      <td>15.0</td>\n",
       "      <td>9.0</td>\n",
       "      <td>8.0</td>\n",
       "      <td>13.0</td>\n",
       "      <td>27.0</td>\n",
       "      <td>24.0</td>\n",
       "      <td>10.0</td>\n",
       "      <td>9.0</td>\n",
       "    </tr>\n",
       "    <tr>\n",
       "      <td>Income</td>\n",
       "      <td>49.0</td>\n",
       "      <td>34.0</td>\n",
       "      <td>11.0</td>\n",
       "      <td>100.0</td>\n",
       "      <td>45.0</td>\n",
       "      <td>29.0</td>\n",
       "      <td>72.0</td>\n",
       "      <td>22.0</td>\n",
       "      <td>81.0</td>\n",
       "      <td>180.0</td>\n",
       "    </tr>\n",
       "    <tr>\n",
       "      <td>ZIP Code</td>\n",
       "      <td>91107.0</td>\n",
       "      <td>90089.0</td>\n",
       "      <td>94720.0</td>\n",
       "      <td>94112.0</td>\n",
       "      <td>91330.0</td>\n",
       "      <td>92121.0</td>\n",
       "      <td>91711.0</td>\n",
       "      <td>93943.0</td>\n",
       "      <td>90089.0</td>\n",
       "      <td>93023.0</td>\n",
       "    </tr>\n",
       "    <tr>\n",
       "      <td>Family</td>\n",
       "      <td>4.0</td>\n",
       "      <td>3.0</td>\n",
       "      <td>1.0</td>\n",
       "      <td>1.0</td>\n",
       "      <td>4.0</td>\n",
       "      <td>4.0</td>\n",
       "      <td>2.0</td>\n",
       "      <td>1.0</td>\n",
       "      <td>3.0</td>\n",
       "      <td>1.0</td>\n",
       "    </tr>\n",
       "    <tr>\n",
       "      <td>CCAvg</td>\n",
       "      <td>1.6</td>\n",
       "      <td>1.5</td>\n",
       "      <td>1.0</td>\n",
       "      <td>2.7</td>\n",
       "      <td>1.0</td>\n",
       "      <td>0.4</td>\n",
       "      <td>1.5</td>\n",
       "      <td>0.3</td>\n",
       "      <td>0.6</td>\n",
       "      <td>8.9</td>\n",
       "    </tr>\n",
       "    <tr>\n",
       "      <td>Education</td>\n",
       "      <td>1.0</td>\n",
       "      <td>1.0</td>\n",
       "      <td>1.0</td>\n",
       "      <td>2.0</td>\n",
       "      <td>2.0</td>\n",
       "      <td>2.0</td>\n",
       "      <td>2.0</td>\n",
       "      <td>3.0</td>\n",
       "      <td>2.0</td>\n",
       "      <td>3.0</td>\n",
       "    </tr>\n",
       "    <tr>\n",
       "      <td>Mortgage</td>\n",
       "      <td>0.0</td>\n",
       "      <td>0.0</td>\n",
       "      <td>0.0</td>\n",
       "      <td>0.0</td>\n",
       "      <td>0.0</td>\n",
       "      <td>155.0</td>\n",
       "      <td>0.0</td>\n",
       "      <td>0.0</td>\n",
       "      <td>104.0</td>\n",
       "      <td>0.0</td>\n",
       "    </tr>\n",
       "    <tr>\n",
       "      <td>Personal Loan</td>\n",
       "      <td>0.0</td>\n",
       "      <td>0.0</td>\n",
       "      <td>0.0</td>\n",
       "      <td>0.0</td>\n",
       "      <td>0.0</td>\n",
       "      <td>0.0</td>\n",
       "      <td>0.0</td>\n",
       "      <td>0.0</td>\n",
       "      <td>0.0</td>\n",
       "      <td>1.0</td>\n",
       "    </tr>\n",
       "    <tr>\n",
       "      <td>Securities Account</td>\n",
       "      <td>1.0</td>\n",
       "      <td>1.0</td>\n",
       "      <td>0.0</td>\n",
       "      <td>0.0</td>\n",
       "      <td>0.0</td>\n",
       "      <td>0.0</td>\n",
       "      <td>0.0</td>\n",
       "      <td>0.0</td>\n",
       "      <td>0.0</td>\n",
       "      <td>0.0</td>\n",
       "    </tr>\n",
       "    <tr>\n",
       "      <td>CD Account</td>\n",
       "      <td>0.0</td>\n",
       "      <td>0.0</td>\n",
       "      <td>0.0</td>\n",
       "      <td>0.0</td>\n",
       "      <td>0.0</td>\n",
       "      <td>0.0</td>\n",
       "      <td>0.0</td>\n",
       "      <td>0.0</td>\n",
       "      <td>0.0</td>\n",
       "      <td>0.0</td>\n",
       "    </tr>\n",
       "    <tr>\n",
       "      <td>Online</td>\n",
       "      <td>0.0</td>\n",
       "      <td>0.0</td>\n",
       "      <td>0.0</td>\n",
       "      <td>0.0</td>\n",
       "      <td>0.0</td>\n",
       "      <td>1.0</td>\n",
       "      <td>1.0</td>\n",
       "      <td>0.0</td>\n",
       "      <td>1.0</td>\n",
       "      <td>0.0</td>\n",
       "    </tr>\n",
       "    <tr>\n",
       "      <td>CreditCard</td>\n",
       "      <td>0.0</td>\n",
       "      <td>0.0</td>\n",
       "      <td>0.0</td>\n",
       "      <td>0.0</td>\n",
       "      <td>1.0</td>\n",
       "      <td>0.0</td>\n",
       "      <td>0.0</td>\n",
       "      <td>1.0</td>\n",
       "      <td>0.0</td>\n",
       "      <td>0.0</td>\n",
       "    </tr>\n",
       "  </tbody>\n",
       "</table>\n",
       "</div>"
      ],
      "text/plain": [
       "                          0        1        2        3        4        5  \\\n",
       "ID                      1.0      2.0      3.0      4.0      5.0      6.0   \n",
       "Age                    25.0     45.0     39.0     35.0     35.0     37.0   \n",
       "Experience              1.0     19.0     15.0      9.0      8.0     13.0   \n",
       "Income                 49.0     34.0     11.0    100.0     45.0     29.0   \n",
       "ZIP Code            91107.0  90089.0  94720.0  94112.0  91330.0  92121.0   \n",
       "Family                  4.0      3.0      1.0      1.0      4.0      4.0   \n",
       "CCAvg                   1.6      1.5      1.0      2.7      1.0      0.4   \n",
       "Education               1.0      1.0      1.0      2.0      2.0      2.0   \n",
       "Mortgage                0.0      0.0      0.0      0.0      0.0    155.0   \n",
       "Personal Loan           0.0      0.0      0.0      0.0      0.0      0.0   \n",
       "Securities Account      1.0      1.0      0.0      0.0      0.0      0.0   \n",
       "CD Account              0.0      0.0      0.0      0.0      0.0      0.0   \n",
       "Online                  0.0      0.0      0.0      0.0      0.0      1.0   \n",
       "CreditCard              0.0      0.0      0.0      0.0      1.0      0.0   \n",
       "\n",
       "                          6        7        8        9  \n",
       "ID                      7.0      8.0      9.0     10.0  \n",
       "Age                    53.0     50.0     35.0     34.0  \n",
       "Experience             27.0     24.0     10.0      9.0  \n",
       "Income                 72.0     22.0     81.0    180.0  \n",
       "ZIP Code            91711.0  93943.0  90089.0  93023.0  \n",
       "Family                  2.0      1.0      3.0      1.0  \n",
       "CCAvg                   1.5      0.3      0.6      8.9  \n",
       "Education               2.0      3.0      2.0      3.0  \n",
       "Mortgage                0.0      0.0    104.0      0.0  \n",
       "Personal Loan           0.0      0.0      0.0      1.0  \n",
       "Securities Account      0.0      0.0      0.0      0.0  \n",
       "CD Account              0.0      0.0      0.0      0.0  \n",
       "Online                  1.0      0.0      1.0      0.0  \n",
       "CreditCard              0.0      1.0      0.0      0.0  "
      ]
     },
     "execution_count": 4,
     "metadata": {},
     "output_type": "execute_result"
    }
   ],
   "source": [
    "Bank_Data.head(10).transpose() #Gives description of initial 10 rows of data so that we can have a quick overview of data"
   ]
  },
  {
   "cell_type": "markdown",
   "metadata": {},
   "source": [
    "# Description of data attributes"
   ]
  },
  {
   "cell_type": "code",
   "execution_count": 5,
   "metadata": {},
   "outputs": [
    {
     "data": {
      "text/html": [
       "<div>\n",
       "<style scoped>\n",
       "    .dataframe tbody tr th:only-of-type {\n",
       "        vertical-align: middle;\n",
       "    }\n",
       "\n",
       "    .dataframe tbody tr th {\n",
       "        vertical-align: top;\n",
       "    }\n",
       "\n",
       "    .dataframe thead th {\n",
       "        text-align: right;\n",
       "    }\n",
       "</style>\n",
       "<table border=\"1\" class=\"dataframe\">\n",
       "  <thead>\n",
       "    <tr style=\"text-align: right;\">\n",
       "      <th></th>\n",
       "      <th>count</th>\n",
       "      <th>mean</th>\n",
       "      <th>std</th>\n",
       "      <th>min</th>\n",
       "      <th>25%</th>\n",
       "      <th>50%</th>\n",
       "      <th>75%</th>\n",
       "      <th>max</th>\n",
       "    </tr>\n",
       "  </thead>\n",
       "  <tbody>\n",
       "    <tr>\n",
       "      <td>ID</td>\n",
       "      <td>5000.0</td>\n",
       "      <td>2500.500000</td>\n",
       "      <td>1443.520003</td>\n",
       "      <td>1.0</td>\n",
       "      <td>1250.75</td>\n",
       "      <td>2500.5</td>\n",
       "      <td>3750.25</td>\n",
       "      <td>5000.0</td>\n",
       "    </tr>\n",
       "    <tr>\n",
       "      <td>Age</td>\n",
       "      <td>5000.0</td>\n",
       "      <td>45.338400</td>\n",
       "      <td>11.463166</td>\n",
       "      <td>23.0</td>\n",
       "      <td>35.00</td>\n",
       "      <td>45.0</td>\n",
       "      <td>55.00</td>\n",
       "      <td>67.0</td>\n",
       "    </tr>\n",
       "    <tr>\n",
       "      <td>Experience</td>\n",
       "      <td>5000.0</td>\n",
       "      <td>20.104600</td>\n",
       "      <td>11.467954</td>\n",
       "      <td>-3.0</td>\n",
       "      <td>10.00</td>\n",
       "      <td>20.0</td>\n",
       "      <td>30.00</td>\n",
       "      <td>43.0</td>\n",
       "    </tr>\n",
       "    <tr>\n",
       "      <td>Income</td>\n",
       "      <td>5000.0</td>\n",
       "      <td>73.774200</td>\n",
       "      <td>46.033729</td>\n",
       "      <td>8.0</td>\n",
       "      <td>39.00</td>\n",
       "      <td>64.0</td>\n",
       "      <td>98.00</td>\n",
       "      <td>224.0</td>\n",
       "    </tr>\n",
       "    <tr>\n",
       "      <td>ZIP Code</td>\n",
       "      <td>5000.0</td>\n",
       "      <td>93152.503000</td>\n",
       "      <td>2121.852197</td>\n",
       "      <td>9307.0</td>\n",
       "      <td>91911.00</td>\n",
       "      <td>93437.0</td>\n",
       "      <td>94608.00</td>\n",
       "      <td>96651.0</td>\n",
       "    </tr>\n",
       "    <tr>\n",
       "      <td>Family</td>\n",
       "      <td>5000.0</td>\n",
       "      <td>2.396400</td>\n",
       "      <td>1.147663</td>\n",
       "      <td>1.0</td>\n",
       "      <td>1.00</td>\n",
       "      <td>2.0</td>\n",
       "      <td>3.00</td>\n",
       "      <td>4.0</td>\n",
       "    </tr>\n",
       "    <tr>\n",
       "      <td>CCAvg</td>\n",
       "      <td>5000.0</td>\n",
       "      <td>1.937938</td>\n",
       "      <td>1.747659</td>\n",
       "      <td>0.0</td>\n",
       "      <td>0.70</td>\n",
       "      <td>1.5</td>\n",
       "      <td>2.50</td>\n",
       "      <td>10.0</td>\n",
       "    </tr>\n",
       "    <tr>\n",
       "      <td>Education</td>\n",
       "      <td>5000.0</td>\n",
       "      <td>1.881000</td>\n",
       "      <td>0.839869</td>\n",
       "      <td>1.0</td>\n",
       "      <td>1.00</td>\n",
       "      <td>2.0</td>\n",
       "      <td>3.00</td>\n",
       "      <td>3.0</td>\n",
       "    </tr>\n",
       "    <tr>\n",
       "      <td>Mortgage</td>\n",
       "      <td>5000.0</td>\n",
       "      <td>56.498800</td>\n",
       "      <td>101.713802</td>\n",
       "      <td>0.0</td>\n",
       "      <td>0.00</td>\n",
       "      <td>0.0</td>\n",
       "      <td>101.00</td>\n",
       "      <td>635.0</td>\n",
       "    </tr>\n",
       "    <tr>\n",
       "      <td>Personal Loan</td>\n",
       "      <td>5000.0</td>\n",
       "      <td>0.096000</td>\n",
       "      <td>0.294621</td>\n",
       "      <td>0.0</td>\n",
       "      <td>0.00</td>\n",
       "      <td>0.0</td>\n",
       "      <td>0.00</td>\n",
       "      <td>1.0</td>\n",
       "    </tr>\n",
       "    <tr>\n",
       "      <td>Securities Account</td>\n",
       "      <td>5000.0</td>\n",
       "      <td>0.104400</td>\n",
       "      <td>0.305809</td>\n",
       "      <td>0.0</td>\n",
       "      <td>0.00</td>\n",
       "      <td>0.0</td>\n",
       "      <td>0.00</td>\n",
       "      <td>1.0</td>\n",
       "    </tr>\n",
       "    <tr>\n",
       "      <td>CD Account</td>\n",
       "      <td>5000.0</td>\n",
       "      <td>0.060400</td>\n",
       "      <td>0.238250</td>\n",
       "      <td>0.0</td>\n",
       "      <td>0.00</td>\n",
       "      <td>0.0</td>\n",
       "      <td>0.00</td>\n",
       "      <td>1.0</td>\n",
       "    </tr>\n",
       "    <tr>\n",
       "      <td>Online</td>\n",
       "      <td>5000.0</td>\n",
       "      <td>0.596800</td>\n",
       "      <td>0.490589</td>\n",
       "      <td>0.0</td>\n",
       "      <td>0.00</td>\n",
       "      <td>1.0</td>\n",
       "      <td>1.00</td>\n",
       "      <td>1.0</td>\n",
       "    </tr>\n",
       "    <tr>\n",
       "      <td>CreditCard</td>\n",
       "      <td>5000.0</td>\n",
       "      <td>0.294000</td>\n",
       "      <td>0.455637</td>\n",
       "      <td>0.0</td>\n",
       "      <td>0.00</td>\n",
       "      <td>0.0</td>\n",
       "      <td>1.00</td>\n",
       "      <td>1.0</td>\n",
       "    </tr>\n",
       "  </tbody>\n",
       "</table>\n",
       "</div>"
      ],
      "text/plain": [
       "                     count          mean          std     min       25%  \\\n",
       "ID                  5000.0   2500.500000  1443.520003     1.0   1250.75   \n",
       "Age                 5000.0     45.338400    11.463166    23.0     35.00   \n",
       "Experience          5000.0     20.104600    11.467954    -3.0     10.00   \n",
       "Income              5000.0     73.774200    46.033729     8.0     39.00   \n",
       "ZIP Code            5000.0  93152.503000  2121.852197  9307.0  91911.00   \n",
       "Family              5000.0      2.396400     1.147663     1.0      1.00   \n",
       "CCAvg               5000.0      1.937938     1.747659     0.0      0.70   \n",
       "Education           5000.0      1.881000     0.839869     1.0      1.00   \n",
       "Mortgage            5000.0     56.498800   101.713802     0.0      0.00   \n",
       "Personal Loan       5000.0      0.096000     0.294621     0.0      0.00   \n",
       "Securities Account  5000.0      0.104400     0.305809     0.0      0.00   \n",
       "CD Account          5000.0      0.060400     0.238250     0.0      0.00   \n",
       "Online              5000.0      0.596800     0.490589     0.0      0.00   \n",
       "CreditCard          5000.0      0.294000     0.455637     0.0      0.00   \n",
       "\n",
       "                        50%       75%      max  \n",
       "ID                   2500.5   3750.25   5000.0  \n",
       "Age                    45.0     55.00     67.0  \n",
       "Experience             20.0     30.00     43.0  \n",
       "Income                 64.0     98.00    224.0  \n",
       "ZIP Code            93437.0  94608.00  96651.0  \n",
       "Family                  2.0      3.00      4.0  \n",
       "CCAvg                   1.5      2.50     10.0  \n",
       "Education               2.0      3.00      3.0  \n",
       "Mortgage                0.0    101.00    635.0  \n",
       "Personal Loan           0.0      0.00      1.0  \n",
       "Securities Account      0.0      0.00      1.0  \n",
       "CD Account              0.0      0.00      1.0  \n",
       "Online                  1.0      1.00      1.0  \n",
       "CreditCard              0.0      1.00      1.0  "
      ]
     },
     "execution_count": 5,
     "metadata": {},
     "output_type": "execute_result"
    }
   ],
   "source": [
    "Bank_Data.describe().transpose() #It gives the count of entries, mean, standard deviation and 5 point summary of each numeric columns."
   ]
  },
  {
   "cell_type": "code",
   "execution_count": 6,
   "metadata": {},
   "outputs": [
    {
     "name": "stdout",
     "output_type": "stream",
     "text": [
      "<class 'pandas.core.frame.DataFrame'>\n",
      "RangeIndex: 5000 entries, 0 to 4999\n",
      "Data columns (total 14 columns):\n",
      "ID                    5000 non-null int64\n",
      "Age                   5000 non-null int64\n",
      "Experience            5000 non-null int64\n",
      "Income                5000 non-null int64\n",
      "ZIP Code              5000 non-null int64\n",
      "Family                5000 non-null int64\n",
      "CCAvg                 5000 non-null float64\n",
      "Education             5000 non-null int64\n",
      "Mortgage              5000 non-null int64\n",
      "Personal Loan         5000 non-null int64\n",
      "Securities Account    5000 non-null int64\n",
      "CD Account            5000 non-null int64\n",
      "Online                5000 non-null int64\n",
      "CreditCard            5000 non-null int64\n",
      "dtypes: float64(1), int64(13)\n",
      "memory usage: 547.0 KB\n"
     ]
    }
   ],
   "source": [
    "Bank_Data.info() #It shows data types of every attributes of data"
   ]
  },
  {
   "cell_type": "markdown",
   "metadata": {},
   "source": [
    "# Step 2. Study the data distribution in each attribute, share your findings (15 marks)"
   ]
  },
  {
   "cell_type": "markdown",
   "metadata": {},
   "source": [
    "# Checking for any missing values in entire dataset"
   ]
  },
  {
   "cell_type": "code",
   "execution_count": 7,
   "metadata": {},
   "outputs": [
    {
     "data": {
      "text/plain": [
       "False"
      ]
     },
     "execution_count": 7,
     "metadata": {},
     "output_type": "execute_result"
    }
   ],
   "source": [
    "Bank_Data.isnull().values.any()   # Any of the values in the dataframe is a missing value"
   ]
  },
  {
   "cell_type": "markdown",
   "metadata": {},
   "source": [
    "From above we infer that there is no missing value in entire dataframe."
   ]
  },
  {
   "cell_type": "markdown",
   "metadata": {},
   "source": [
    "# 1. Study of ID"
   ]
  },
  {
   "cell_type": "code",
   "execution_count": 8,
   "metadata": {},
   "outputs": [
    {
     "data": {
      "text/plain": [
       "<matplotlib.axes._subplots.AxesSubplot at 0x22096b59a88>"
      ]
     },
     "execution_count": 8,
     "metadata": {},
     "output_type": "execute_result"
    },
    {
     "data": {
      "image/png": "[encoded data removed]",
      "text/plain": [
       "<Figure size 432x288 with 1 Axes>"
      ]
     },
     "metadata": {
      "needs_background": "light"
     },
     "output_type": "display_data"
    }
   ],
   "source": [
    "#distribution of customer ID\n",
    "sns.distplot(Bank_Data['ID'],kde=False, rug=True)"
   ]
  },
  {
   "cell_type": "markdown",
   "metadata": {},
   "source": [
    "It shows uniformly distributed since id is serial no. & every no. occuring once."
   ]
  },
  {
   "cell_type": "markdown",
   "metadata": {},
   "source": [
    "# 2. Study of Age"
   ]
  },
  {
   "cell_type": "code",
   "execution_count": 9,
   "metadata": {},
   "outputs": [
    {
     "data": {
      "text/plain": [
       "<matplotlib.axes._subplots.AxesSubplot at 0x22097022dc8>"
      ]
     },
     "execution_count": 9,
     "metadata": {},
     "output_type": "execute_result"
    },
    {
     "data": {
      "image/png": "[encoded data removed]",
      "text/plain": [
       "<Figure size 432x288 with 1 Axes>"
      ]
     },
     "metadata": {
      "needs_background": "light"
     },
     "output_type": "display_data"
    }
   ],
   "source": [
    "#distribution of Customer's age in completed years\n",
    "sns.distplot(Bank_Data['Age'],kde=False, rug=True)"
   ]
  },
  {
   "cell_type": "markdown",
   "metadata": {},
   "source": [
    "The above figure shows it is almost symmetric distribution"
   ]
  },
  {
   "cell_type": "code",
   "execution_count": 10,
   "metadata": {},
   "outputs": [
    {
     "name": "stdout",
     "output_type": "stream",
     "text": [
      "0    35\n",
      "dtype: int64\n"
     ]
    }
   ],
   "source": [
    "print(Bank_Data['Age'].mode()) #prints the most frequent age of customer"
   ]
  },
  {
   "cell_type": "code",
   "execution_count": 11,
   "metadata": {},
   "outputs": [
    {
     "name": "stdout",
     "output_type": "stream",
     "text": [
      "[(35, 151), (43, 149), (52, 145), (58, 143), (54, 143)]\n"
     ]
    }
   ],
   "source": [
    "counter=collections.Counter(Bank_Data['Age']) #prints the counts of the top most frequent age of customer\n",
    "print(counter.most_common(5))"
   ]
  },
  {
   "cell_type": "markdown",
   "metadata": {},
   "source": [
    "# 3. Study of Experience"
   ]
  },
  {
   "cell_type": "code",
   "execution_count": 12,
   "metadata": {},
   "outputs": [
    {
     "data": {
      "text/plain": [
       "<matplotlib.axes._subplots.AxesSubplot at 0x22097375208>"
      ]
     },
     "execution_count": 12,
     "metadata": {},
     "output_type": "execute_result"
    },
    {
     "data": {
      "image/png": "[encoded data removed]",
      "text/plain": [
       "<Figure size 432x288 with 1 Axes>"
      ]
     },
     "metadata": {
      "needs_background": "light"
     },
     "output_type": "display_data"
    }
   ],
   "source": [
    "#distribution of customer's years of professional experience\n",
    "sns.distplot(Bank_Data['Experience'],kde=False, rug=True)"
   ]
  },
  {
   "cell_type": "markdown",
   "metadata": {},
   "source": [
    "The above figure shows it is almost symmetric distribution"
   ]
  },
  {
   "cell_type": "code",
   "execution_count": 13,
   "metadata": {},
   "outputs": [
    {
     "name": "stdout",
     "output_type": "stream",
     "text": [
      "0    32\n",
      "dtype: int64\n"
     ]
    }
   ],
   "source": [
    "print(Bank_Data['Experience'].mode()) #prints the most frequent years of professional experience of customer"
   ]
  },
  {
   "cell_type": "code",
   "execution_count": 14,
   "metadata": {},
   "outputs": [
    {
     "name": "stdout",
     "output_type": "stream",
     "text": [
      "[(32, 154), (20, 148), (9, 147), (5, 146), (23, 144)]\n"
     ]
    }
   ],
   "source": [
    "counter=collections.Counter(Bank_Data['Experience']) #prints the counts of the 5 top most frequent years of professional experience of customer\n",
    "print(counter.most_common(5))"
   ]
  },
  {
   "cell_type": "markdown",
   "metadata": {},
   "source": [
    "# 4. Study of Income"
   ]
  },
  {
   "cell_type": "code",
   "execution_count": 15,
   "metadata": {},
   "outputs": [
    {
     "data": {
      "text/plain": [
       "<matplotlib.axes._subplots.AxesSubplot at 0x2209702d688>"
      ]
     },
     "execution_count": 15,
     "metadata": {},
     "output_type": "execute_result"
    },
    {
     "data": {
      "image/png": "[encoded data removed]",
      "text/plain": [
       "<Figure size 432x288 with 1 Axes>"
      ]
     },
     "metadata": {
      "needs_background": "light"
     },
     "output_type": "display_data"
    }
   ],
   "source": [
    "#distribution of Annual income of the customer ($000)\n",
    "sns.distplot(Bank_Data['Income'],kde=False, rug=True)"
   ]
  },
  {
   "cell_type": "markdown",
   "metadata": {},
   "source": [
    "The above figure shows it is a positively skewed distribution"
   ]
  },
  {
   "cell_type": "code",
   "execution_count": 16,
   "metadata": {},
   "outputs": [
    {
     "name": "stdout",
     "output_type": "stream",
     "text": [
      "0    44\n",
      "dtype: int64\n"
     ]
    }
   ],
   "source": [
    "print(Bank_Data['Income'].mode()) #prints the most frequent Annual income of the customer ($000)"
   ]
  },
  {
   "cell_type": "code",
   "execution_count": 17,
   "metadata": {},
   "outputs": [
    {
     "name": "stdout",
     "output_type": "stream",
     "text": [
      "[(32, 154), (20, 148), (9, 147), (5, 146)]\n"
     ]
    }
   ],
   "source": [
    "counter=collections.Counter(Bank_Data['Experience']) #prints the counts of the 4 top most frequent Annual income of the customer ($000)\n",
    "print(counter.most_common(4))"
   ]
  },
  {
   "cell_type": "markdown",
   "metadata": {},
   "source": [
    "# 5. Study of ZIP Code"
   ]
  },
  {
   "cell_type": "code",
   "execution_count": 18,
   "metadata": {},
   "outputs": [
    {
     "data": {
      "text/plain": [
       "<matplotlib.axes._subplots.AxesSubplot at 0x220960ca988>"
      ]
     },
     "execution_count": 18,
     "metadata": {},
     "output_type": "execute_result"
    },
    {
     "data": {
      "image/png": "[encoded data removed]",
      "text/plain": [
       "<Figure size 432x288 with 1 Axes>"
      ]
     },
     "metadata": {
      "needs_background": "light"
     },
     "output_type": "display_data"
    }
   ],
   "source": [
    "#distribution of customer's Home Address ZIP code\n",
    "sns.distplot(Bank_Data['ZIP Code'],kde=False, rug=True)"
   ]
  },
  {
   "cell_type": "markdown",
   "metadata": {},
   "source": [
    "The above distribution shows that the zip code is concentrated around 90000 that is of 5 digits having some outliers"
   ]
  },
  {
   "cell_type": "code",
   "execution_count": 19,
   "metadata": {},
   "outputs": [
    {
     "data": {
      "text/plain": [
       "94720    169\n",
       "94305    127\n",
       "95616    116\n",
       "90095     71\n",
       "93106     57\n",
       "        ... \n",
       "96145      1\n",
       "94970      1\n",
       "94598      1\n",
       "90068      1\n",
       "94087      1\n",
       "Name: ZIP Code, Length: 467, dtype: int64"
      ]
     },
     "execution_count": 19,
     "metadata": {},
     "output_type": "execute_result"
    }
   ],
   "source": [
    "Bank_Data['ZIP Code'].value_counts() #gives count of every attributes of customer's Home Address ZIP code"
   ]
  },
  {
   "cell_type": "markdown",
   "metadata": {},
   "source": [
    "Code to deal with outlier"
   ]
  },
  {
   "cell_type": "code",
   "execution_count": 20,
   "metadata": {},
   "outputs": [
    {
     "data": {
      "text/plain": [
       "(array([384], dtype=int64),)"
      ]
     },
     "execution_count": 20,
     "metadata": {},
     "output_type": "execute_result"
    }
   ],
   "source": [
    "Q1 = Bank_Data['ZIP Code'].quantile(0.25) #code to print the location of outlier\n",
    "Q3 = Bank_Data['ZIP Code'].quantile(0.75)\n",
    "IQR = Q3 - Q1\n",
    "np.where((Bank_Data['ZIP Code'] < (Q1 - 1.5 * IQR)) | (Bank_Data['ZIP Code'] > (Q3 + 1.5 * IQR)))"
   ]
  },
  {
   "cell_type": "code",
   "execution_count": 21,
   "metadata": {},
   "outputs": [
    {
     "data": {
      "text/plain": [
       "9307"
      ]
     },
     "execution_count": 21,
     "metadata": {},
     "output_type": "execute_result"
    }
   ],
   "source": [
    "#The above result shows the home address zip code of customer has only one outlier at index location 384 of the column\n",
    "Bank_Data['ZIP Code'][384] #prints the value of outlier"
   ]
  },
  {
   "cell_type": "markdown",
   "metadata": {},
   "source": [
    "The above analysis shows that there might be mistake in data entry which means it is quite possible that the last digit might have missed while entering value in dataset."
   ]
  },
  {
   "cell_type": "code",
   "execution_count": 22,
   "metadata": {},
   "outputs": [],
   "source": [
    "Bank_Data.loc[384,'ZIP Code'] = 93070  # replace the outlier with possible dta 93070, so that outlier may not cause problem in data analysis."
   ]
  },
  {
   "cell_type": "code",
   "execution_count": 23,
   "metadata": {},
   "outputs": [
    {
     "data": {
      "text/plain": [
       "(array([], dtype=int64),)"
      ]
     },
     "execution_count": 23,
     "metadata": {},
     "output_type": "execute_result"
    }
   ],
   "source": [
    "#checking whether any outlier still remains\n",
    "np.where((Bank_Data['ZIP Code'] < (Q1 - 1.5 * IQR)) | (Bank_Data['ZIP Code'] > (Q3 + 1.5 * IQR)))"
   ]
  },
  {
   "cell_type": "markdown",
   "metadata": {},
   "source": [
    "# 6. Study of Family size"
   ]
  },
  {
   "cell_type": "code",
   "execution_count": 24,
   "metadata": {},
   "outputs": [
    {
     "data": {
      "text/plain": [
       "<matplotlib.axes._subplots.AxesSubplot at 0x2209735b7c8>"
      ]
     },
     "execution_count": 24,
     "metadata": {},
     "output_type": "execute_result"
    },
    {
     "data": {
      "image/png": "[encoded data removed]",
      "text/plain": [
       "<Figure size 432x288 with 1 Axes>"
      ]
     },
     "metadata": {
      "needs_background": "light"
     },
     "output_type": "display_data"
    }
   ],
   "source": [
    "#distribution of Family size of the customer\n",
    "sns.distplot(Bank_Data['Family'],kde=False, rug=True)"
   ]
  },
  {
   "cell_type": "code",
   "execution_count": 25,
   "metadata": {},
   "outputs": [
    {
     "data": {
      "text/plain": [
       "1    1472\n",
       "2    1296\n",
       "4    1222\n",
       "3    1010\n",
       "Name: Family, dtype: int64"
      ]
     },
     "execution_count": 25,
     "metadata": {},
     "output_type": "execute_result"
    }
   ],
   "source": [
    "Bank_Data['Family'].value_counts() #gives count of every attributes of Family size of the customer"
   ]
  },
  {
   "cell_type": "markdown",
   "metadata": {},
   "source": [
    "The above result shows that there are only 4 categories of family size of the customer"
   ]
  },
  {
   "cell_type": "markdown",
   "metadata": {},
   "source": [
    "# 7. Study of CCAvg"
   ]
  },
  {
   "cell_type": "code",
   "execution_count": 26,
   "metadata": {},
   "outputs": [
    {
     "data": {
      "text/plain": [
       "<matplotlib.axes._subplots.AxesSubplot at 0x220980cf288>"
      ]
     },
     "execution_count": 26,
     "metadata": {},
     "output_type": "execute_result"
    },
    {
     "data": {
      "image/png": "[encoded data removed]",
      "text/plain": [
       "<Figure size 432x288 with 1 Axes>"
      ]
     },
     "metadata": {
      "needs_background": "light"
     },
     "output_type": "display_data"
    }
   ],
   "source": [
    "#distribution of customer's Avg. spending on credit cards per month ($000)\n",
    "sns.distplot(Bank_Data['CCAvg'],kde=False, rug=True)"
   ]
  },
  {
   "cell_type": "markdown",
   "metadata": {},
   "source": [
    "The above figure shows it is a positively skewed distribution"
   ]
  },
  {
   "cell_type": "code",
   "execution_count": 27,
   "metadata": {},
   "outputs": [
    {
     "name": "stdout",
     "output_type": "stream",
     "text": [
      "0    0.3\n",
      "dtype: float64\n"
     ]
    }
   ],
   "source": [
    "print(Bank_Data['CCAvg'].mode()) #prints the most frequent customer's Avg. spending on credit cards per month ($000)"
   ]
  },
  {
   "cell_type": "code",
   "execution_count": 28,
   "metadata": {},
   "outputs": [
    {
     "name": "stdout",
     "output_type": "stream",
     "text": [
      "[(0.3, 241), (1.0, 231), (0.2, 204), (2.0, 188)]\n"
     ]
    }
   ],
   "source": [
    "counter=collections.Counter(Bank_Data['CCAvg']) #prints the counts of the 4 top most frequent customer's Avg. spending on credit cards per month ($000)\n",
    "print(counter.most_common(4))"
   ]
  },
  {
   "cell_type": "markdown",
   "metadata": {},
   "source": [
    "# 8. Study of Education"
   ]
  },
  {
   "cell_type": "code",
   "execution_count": 29,
   "metadata": {},
   "outputs": [
    {
     "data": {
      "text/plain": [
       "<matplotlib.axes._subplots.AxesSubplot at 0x2209842ecc8>"
      ]
     },
     "execution_count": 29,
     "metadata": {},
     "output_type": "execute_result"
    },
    {
     "data": {
      "image/png": "[encoded data removed]",
      "text/plain": [
       "<Figure size 432x288 with 1 Axes>"
      ]
     },
     "metadata": {
      "needs_background": "light"
     },
     "output_type": "display_data"
    }
   ],
   "source": [
    "#distribution of customer's Education Level.\n",
    "                        #1. Undergrad\n",
    "                        #2. Graduate\n",
    "                        #3. Advanced/Professional ID\n",
    "sns.distplot(Bank_Data['Education'],kde=False, rug=True)"
   ]
  },
  {
   "cell_type": "code",
   "execution_count": 30,
   "metadata": {},
   "outputs": [
    {
     "data": {
      "text/plain": [
       "1    2096\n",
       "3    1501\n",
       "2    1403\n",
       "Name: Education, dtype: int64"
      ]
     },
     "execution_count": 30,
     "metadata": {},
     "output_type": "execute_result"
    }
   ],
   "source": [
    "Bank_Data['Education'].value_counts() #gives count of #1. Undergrad, #2. Graduate, #3. Advanced/Professional of education level of customer"
   ]
  },
  {
   "cell_type": "markdown",
   "metadata": {},
   "source": [
    "As it is a categorical variable hence replacing it with one hot encoding"
   ]
  },
  {
   "cell_type": "code",
   "execution_count": 31,
   "metadata": {},
   "outputs": [
    {
     "data": {
      "text/html": [
       "<div>\n",
       "<style scoped>\n",
       "    .dataframe tbody tr th:only-of-type {\n",
       "        vertical-align: middle;\n",
       "    }\n",
       "\n",
       "    .dataframe tbody tr th {\n",
       "        vertical-align: top;\n",
       "    }\n",
       "\n",
       "    .dataframe thead th {\n",
       "        text-align: right;\n",
       "    }\n",
       "</style>\n",
       "<table border=\"1\" class=\"dataframe\">\n",
       "  <thead>\n",
       "    <tr style=\"text-align: right;\">\n",
       "      <th></th>\n",
       "      <th>0</th>\n",
       "      <th>1</th>\n",
       "      <th>2</th>\n",
       "      <th>3</th>\n",
       "      <th>4</th>\n",
       "    </tr>\n",
       "  </thead>\n",
       "  <tbody>\n",
       "    <tr>\n",
       "      <td>ID</td>\n",
       "      <td>1</td>\n",
       "      <td>2</td>\n",
       "      <td>3</td>\n",
       "      <td>4</td>\n",
       "      <td>5</td>\n",
       "    </tr>\n",
       "    <tr>\n",
       "      <td>Age</td>\n",
       "      <td>25</td>\n",
       "      <td>45</td>\n",
       "      <td>39</td>\n",
       "      <td>35</td>\n",
       "      <td>35</td>\n",
       "    </tr>\n",
       "    <tr>\n",
       "      <td>Experience</td>\n",
       "      <td>1</td>\n",
       "      <td>19</td>\n",
       "      <td>15</td>\n",
       "      <td>9</td>\n",
       "      <td>8</td>\n",
       "    </tr>\n",
       "    <tr>\n",
       "      <td>Income</td>\n",
       "      <td>49</td>\n",
       "      <td>34</td>\n",
       "      <td>11</td>\n",
       "      <td>100</td>\n",
       "      <td>45</td>\n",
       "    </tr>\n",
       "    <tr>\n",
       "      <td>ZIP Code</td>\n",
       "      <td>91107</td>\n",
       "      <td>90089</td>\n",
       "      <td>94720</td>\n",
       "      <td>94112</td>\n",
       "      <td>91330</td>\n",
       "    </tr>\n",
       "    <tr>\n",
       "      <td>Family</td>\n",
       "      <td>4</td>\n",
       "      <td>3</td>\n",
       "      <td>1</td>\n",
       "      <td>1</td>\n",
       "      <td>4</td>\n",
       "    </tr>\n",
       "    <tr>\n",
       "      <td>CCAvg</td>\n",
       "      <td>1.6</td>\n",
       "      <td>1.5</td>\n",
       "      <td>1</td>\n",
       "      <td>2.7</td>\n",
       "      <td>1</td>\n",
       "    </tr>\n",
       "    <tr>\n",
       "      <td>Education</td>\n",
       "      <td>Undergrad</td>\n",
       "      <td>Undergrad</td>\n",
       "      <td>Undergrad</td>\n",
       "      <td>Graduate</td>\n",
       "      <td>Graduate</td>\n",
       "    </tr>\n",
       "    <tr>\n",
       "      <td>Mortgage</td>\n",
       "      <td>0</td>\n",
       "      <td>0</td>\n",
       "      <td>0</td>\n",
       "      <td>0</td>\n",
       "      <td>0</td>\n",
       "    </tr>\n",
       "    <tr>\n",
       "      <td>Personal Loan</td>\n",
       "      <td>0</td>\n",
       "      <td>0</td>\n",
       "      <td>0</td>\n",
       "      <td>0</td>\n",
       "      <td>0</td>\n",
       "    </tr>\n",
       "    <tr>\n",
       "      <td>Securities Account</td>\n",
       "      <td>1</td>\n",
       "      <td>1</td>\n",
       "      <td>0</td>\n",
       "      <td>0</td>\n",
       "      <td>0</td>\n",
       "    </tr>\n",
       "    <tr>\n",
       "      <td>CD Account</td>\n",
       "      <td>0</td>\n",
       "      <td>0</td>\n",
       "      <td>0</td>\n",
       "      <td>0</td>\n",
       "      <td>0</td>\n",
       "    </tr>\n",
       "    <tr>\n",
       "      <td>Online</td>\n",
       "      <td>0</td>\n",
       "      <td>0</td>\n",
       "      <td>0</td>\n",
       "      <td>0</td>\n",
       "      <td>0</td>\n",
       "    </tr>\n",
       "    <tr>\n",
       "      <td>CreditCard</td>\n",
       "      <td>0</td>\n",
       "      <td>0</td>\n",
       "      <td>0</td>\n",
       "      <td>0</td>\n",
       "      <td>1</td>\n",
       "    </tr>\n",
       "  </tbody>\n",
       "</table>\n",
       "</div>"
      ],
      "text/plain": [
       "                            0          1          2         3         4\n",
       "ID                          1          2          3         4         5\n",
       "Age                        25         45         39        35        35\n",
       "Experience                  1         19         15         9         8\n",
       "Income                     49         34         11       100        45\n",
       "ZIP Code                91107      90089      94720     94112     91330\n",
       "Family                      4          3          1         1         4\n",
       "CCAvg                     1.6        1.5          1       2.7         1\n",
       "Education           Undergrad  Undergrad  Undergrad  Graduate  Graduate\n",
       "Mortgage                    0          0          0         0         0\n",
       "Personal Loan               0          0          0         0         0\n",
       "Securities Account          1          1          0         0         0\n",
       "CD Account                  0          0          0         0         0\n",
       "Online                      0          0          0         0         0\n",
       "CreditCard                  0          0          0         0         1"
      ]
     },
     "execution_count": 31,
     "metadata": {},
     "output_type": "execute_result"
    }
   ],
   "source": [
    "Bank_Data['Education'] = Bank_Data['Education'].replace({1: 'Undergrad', 2: 'Graduate', 3: 'Advanced/Professional'})\n",
    "Bank_Data.head().transpose()"
   ]
  },
  {
   "cell_type": "markdown",
   "metadata": {},
   "source": [
    "create 3 simple true or false columns with titles equivalent to \"Education_Advanced/Professional\" \"Education_Graduate\"\t\"Education_Undergrad\". These will be used as independent variables without imposing any kind of ordering between the three categories."
   ]
  },
  {
   "cell_type": "code",
   "execution_count": 32,
   "metadata": {},
   "outputs": [
    {
     "data": {
      "text/html": [
       "<div>\n",
       "<style scoped>\n",
       "    .dataframe tbody tr th:only-of-type {\n",
       "        vertical-align: middle;\n",
       "    }\n",
       "\n",
       "    .dataframe tbody tr th {\n",
       "        vertical-align: top;\n",
       "    }\n",
       "\n",
       "    .dataframe thead th {\n",
       "        text-align: right;\n",
       "    }\n",
       "</style>\n",
       "<table border=\"1\" class=\"dataframe\">\n",
       "  <thead>\n",
       "    <tr style=\"text-align: right;\">\n",
       "      <th></th>\n",
       "      <th>0</th>\n",
       "      <th>1</th>\n",
       "      <th>2</th>\n",
       "      <th>3</th>\n",
       "      <th>4</th>\n",
       "    </tr>\n",
       "  </thead>\n",
       "  <tbody>\n",
       "    <tr>\n",
       "      <td>ID</td>\n",
       "      <td>1.0</td>\n",
       "      <td>2.0</td>\n",
       "      <td>3.0</td>\n",
       "      <td>4.0</td>\n",
       "      <td>5.0</td>\n",
       "    </tr>\n",
       "    <tr>\n",
       "      <td>Age</td>\n",
       "      <td>25.0</td>\n",
       "      <td>45.0</td>\n",
       "      <td>39.0</td>\n",
       "      <td>35.0</td>\n",
       "      <td>35.0</td>\n",
       "    </tr>\n",
       "    <tr>\n",
       "      <td>Experience</td>\n",
       "      <td>1.0</td>\n",
       "      <td>19.0</td>\n",
       "      <td>15.0</td>\n",
       "      <td>9.0</td>\n",
       "      <td>8.0</td>\n",
       "    </tr>\n",
       "    <tr>\n",
       "      <td>Income</td>\n",
       "      <td>49.0</td>\n",
       "      <td>34.0</td>\n",
       "      <td>11.0</td>\n",
       "      <td>100.0</td>\n",
       "      <td>45.0</td>\n",
       "    </tr>\n",
       "    <tr>\n",
       "      <td>ZIP Code</td>\n",
       "      <td>91107.0</td>\n",
       "      <td>90089.0</td>\n",
       "      <td>94720.0</td>\n",
       "      <td>94112.0</td>\n",
       "      <td>91330.0</td>\n",
       "    </tr>\n",
       "    <tr>\n",
       "      <td>Family</td>\n",
       "      <td>4.0</td>\n",
       "      <td>3.0</td>\n",
       "      <td>1.0</td>\n",
       "      <td>1.0</td>\n",
       "      <td>4.0</td>\n",
       "    </tr>\n",
       "    <tr>\n",
       "      <td>CCAvg</td>\n",
       "      <td>1.6</td>\n",
       "      <td>1.5</td>\n",
       "      <td>1.0</td>\n",
       "      <td>2.7</td>\n",
       "      <td>1.0</td>\n",
       "    </tr>\n",
       "    <tr>\n",
       "      <td>Mortgage</td>\n",
       "      <td>0.0</td>\n",
       "      <td>0.0</td>\n",
       "      <td>0.0</td>\n",
       "      <td>0.0</td>\n",
       "      <td>0.0</td>\n",
       "    </tr>\n",
       "    <tr>\n",
       "      <td>Personal Loan</td>\n",
       "      <td>0.0</td>\n",
       "      <td>0.0</td>\n",
       "      <td>0.0</td>\n",
       "      <td>0.0</td>\n",
       "      <td>0.0</td>\n",
       "    </tr>\n",
       "    <tr>\n",
       "      <td>Securities Account</td>\n",
       "      <td>1.0</td>\n",
       "      <td>1.0</td>\n",
       "      <td>0.0</td>\n",
       "      <td>0.0</td>\n",
       "      <td>0.0</td>\n",
       "    </tr>\n",
       "    <tr>\n",
       "      <td>CD Account</td>\n",
       "      <td>0.0</td>\n",
       "      <td>0.0</td>\n",
       "      <td>0.0</td>\n",
       "      <td>0.0</td>\n",
       "      <td>0.0</td>\n",
       "    </tr>\n",
       "    <tr>\n",
       "      <td>Online</td>\n",
       "      <td>0.0</td>\n",
       "      <td>0.0</td>\n",
       "      <td>0.0</td>\n",
       "      <td>0.0</td>\n",
       "      <td>0.0</td>\n",
       "    </tr>\n",
       "    <tr>\n",
       "      <td>CreditCard</td>\n",
       "      <td>0.0</td>\n",
       "      <td>0.0</td>\n",
       "      <td>0.0</td>\n",
       "      <td>0.0</td>\n",
       "      <td>1.0</td>\n",
       "    </tr>\n",
       "    <tr>\n",
       "      <td>Education_Advanced/Professional</td>\n",
       "      <td>0.0</td>\n",
       "      <td>0.0</td>\n",
       "      <td>0.0</td>\n",
       "      <td>0.0</td>\n",
       "      <td>0.0</td>\n",
       "    </tr>\n",
       "    <tr>\n",
       "      <td>Education_Graduate</td>\n",
       "      <td>0.0</td>\n",
       "      <td>0.0</td>\n",
       "      <td>0.0</td>\n",
       "      <td>1.0</td>\n",
       "      <td>1.0</td>\n",
       "    </tr>\n",
       "    <tr>\n",
       "      <td>Education_Undergrad</td>\n",
       "      <td>1.0</td>\n",
       "      <td>1.0</td>\n",
       "      <td>1.0</td>\n",
       "      <td>0.0</td>\n",
       "      <td>0.0</td>\n",
       "    </tr>\n",
       "  </tbody>\n",
       "</table>\n",
       "</div>"
      ],
      "text/plain": [
       "                                       0        1        2        3        4\n",
       "ID                                   1.0      2.0      3.0      4.0      5.0\n",
       "Age                                 25.0     45.0     39.0     35.0     35.0\n",
       "Experience                           1.0     19.0     15.0      9.0      8.0\n",
       "Income                              49.0     34.0     11.0    100.0     45.0\n",
       "ZIP Code                         91107.0  90089.0  94720.0  94112.0  91330.0\n",
       "Family                               4.0      3.0      1.0      1.0      4.0\n",
       "CCAvg                                1.6      1.5      1.0      2.7      1.0\n",
       "Mortgage                             0.0      0.0      0.0      0.0      0.0\n",
       "Personal Loan                        0.0      0.0      0.0      0.0      0.0\n",
       "Securities Account                   1.0      1.0      0.0      0.0      0.0\n",
       "CD Account                           0.0      0.0      0.0      0.0      0.0\n",
       "Online                               0.0      0.0      0.0      0.0      0.0\n",
       "CreditCard                           0.0      0.0      0.0      0.0      1.0\n",
       "Education_Advanced/Professional      0.0      0.0      0.0      0.0      0.0\n",
       "Education_Graduate                   0.0      0.0      0.0      1.0      1.0\n",
       "Education_Undergrad                  1.0      1.0      1.0      0.0      0.0"
      ]
     },
     "execution_count": 32,
     "metadata": {},
     "output_type": "execute_result"
    }
   ],
   "source": [
    "Bank_Data = pd.get_dummies(Bank_Data, columns=['Education'])\n",
    "Bank_Data.head().transpose()"
   ]
  },
  {
   "cell_type": "markdown",
   "metadata": {},
   "source": [
    "# 9. Study of Mortgage"
   ]
  },
  {
   "cell_type": "code",
   "execution_count": 33,
   "metadata": {},
   "outputs": [
    {
     "data": {
      "text/plain": [
       "<matplotlib.axes._subplots.AxesSubplot at 0x220964d2f08>"
      ]
     },
     "execution_count": 33,
     "metadata": {},
     "output_type": "execute_result"
    },
    {
     "data": {
      "image/png": "[encoded data removed]",
      "text/plain": [
       "<Figure size 432x288 with 1 Axes>"
      ]
     },
     "metadata": {
      "needs_background": "light"
     },
     "output_type": "display_data"
    }
   ],
   "source": [
    "#distribution of customer's Value of house mortgage if any. ($000)\n",
    "sns.distplot(Bank_Data['Mortgage'],kde=False, rug=True)"
   ]
  },
  {
   "cell_type": "code",
   "execution_count": 34,
   "metadata": {},
   "outputs": [
    {
     "data": {
      "text/plain": [
       "0      3462\n",
       "98       17\n",
       "103      16\n",
       "119      16\n",
       "83       16\n",
       "       ... \n",
       "541       1\n",
       "509       1\n",
       "505       1\n",
       "485       1\n",
       "577       1\n",
       "Name: Mortgage, Length: 347, dtype: int64"
      ]
     },
     "execution_count": 34,
     "metadata": {},
     "output_type": "execute_result"
    }
   ],
   "source": [
    "Bank_Data['Mortgage'].value_counts() #gives count of every attributes of customer's Value of house mortgage if any. ($000)"
   ]
  },
  {
   "cell_type": "markdown",
   "metadata": {},
   "source": [
    "From above we can see that most of the customers does not have any value of house mortgage"
   ]
  },
  {
   "cell_type": "markdown",
   "metadata": {},
   "source": [
    "# 10. Study of Securities Account"
   ]
  },
  {
   "cell_type": "code",
   "execution_count": 35,
   "metadata": {},
   "outputs": [
    {
     "data": {
      "text/plain": [
       "<matplotlib.axes._subplots.AxesSubplot at 0x22099ad46c8>"
      ]
     },
     "execution_count": 35,
     "metadata": {},
     "output_type": "execute_result"
    },
    {
     "data": {
      "image/png": "[encoded data removed]",
      "text/plain": [
       "<Figure size 432x288 with 1 Axes>"
      ]
     },
     "metadata": {
      "needs_background": "light"
     },
     "output_type": "display_data"
    }
   ],
   "source": [
    "#distribution of whether the customer have a securities account with the bank?\n",
    "sns.distplot(Bank_Data['Securities Account'],kde=False, rug=True)"
   ]
  },
  {
   "cell_type": "code",
   "execution_count": 36,
   "metadata": {},
   "outputs": [
    {
     "data": {
      "text/plain": [
       "0    4478\n",
       "1     522\n",
       "Name: Securities Account, dtype: int64"
      ]
     },
     "execution_count": 36,
     "metadata": {},
     "output_type": "execute_result"
    }
   ],
   "source": [
    "Bank_Data['Securities Account'].value_counts() #gives count of every attributes of whether the customer have a securities account with the bank?"
   ]
  },
  {
   "cell_type": "markdown",
   "metadata": {},
   "source": [
    "From above we can see that most of the customers does not have any securities account with the bank."
   ]
  },
  {
   "cell_type": "markdown",
   "metadata": {},
   "source": [
    "As it is a categorical variable hence replacing it with one hot encoding"
   ]
  },
  {
   "cell_type": "code",
   "execution_count": 37,
   "metadata": {},
   "outputs": [
    {
     "data": {
      "text/html": [
       "<div>\n",
       "<style scoped>\n",
       "    .dataframe tbody tr th:only-of-type {\n",
       "        vertical-align: middle;\n",
       "    }\n",
       "\n",
       "    .dataframe tbody tr th {\n",
       "        vertical-align: top;\n",
       "    }\n",
       "\n",
       "    .dataframe thead th {\n",
       "        text-align: right;\n",
       "    }\n",
       "</style>\n",
       "<table border=\"1\" class=\"dataframe\">\n",
       "  <thead>\n",
       "    <tr style=\"text-align: right;\">\n",
       "      <th></th>\n",
       "      <th>0</th>\n",
       "      <th>1</th>\n",
       "      <th>2</th>\n",
       "      <th>3</th>\n",
       "      <th>4</th>\n",
       "    </tr>\n",
       "  </thead>\n",
       "  <tbody>\n",
       "    <tr>\n",
       "      <td>ID</td>\n",
       "      <td>1</td>\n",
       "      <td>2</td>\n",
       "      <td>3</td>\n",
       "      <td>4</td>\n",
       "      <td>5</td>\n",
       "    </tr>\n",
       "    <tr>\n",
       "      <td>Age</td>\n",
       "      <td>25</td>\n",
       "      <td>45</td>\n",
       "      <td>39</td>\n",
       "      <td>35</td>\n",
       "      <td>35</td>\n",
       "    </tr>\n",
       "    <tr>\n",
       "      <td>Experience</td>\n",
       "      <td>1</td>\n",
       "      <td>19</td>\n",
       "      <td>15</td>\n",
       "      <td>9</td>\n",
       "      <td>8</td>\n",
       "    </tr>\n",
       "    <tr>\n",
       "      <td>Income</td>\n",
       "      <td>49</td>\n",
       "      <td>34</td>\n",
       "      <td>11</td>\n",
       "      <td>100</td>\n",
       "      <td>45</td>\n",
       "    </tr>\n",
       "    <tr>\n",
       "      <td>ZIP Code</td>\n",
       "      <td>91107</td>\n",
       "      <td>90089</td>\n",
       "      <td>94720</td>\n",
       "      <td>94112</td>\n",
       "      <td>91330</td>\n",
       "    </tr>\n",
       "    <tr>\n",
       "      <td>Family</td>\n",
       "      <td>4</td>\n",
       "      <td>3</td>\n",
       "      <td>1</td>\n",
       "      <td>1</td>\n",
       "      <td>4</td>\n",
       "    </tr>\n",
       "    <tr>\n",
       "      <td>CCAvg</td>\n",
       "      <td>1.6</td>\n",
       "      <td>1.5</td>\n",
       "      <td>1</td>\n",
       "      <td>2.7</td>\n",
       "      <td>1</td>\n",
       "    </tr>\n",
       "    <tr>\n",
       "      <td>Mortgage</td>\n",
       "      <td>0</td>\n",
       "      <td>0</td>\n",
       "      <td>0</td>\n",
       "      <td>0</td>\n",
       "      <td>0</td>\n",
       "    </tr>\n",
       "    <tr>\n",
       "      <td>Personal Loan</td>\n",
       "      <td>0</td>\n",
       "      <td>0</td>\n",
       "      <td>0</td>\n",
       "      <td>0</td>\n",
       "      <td>0</td>\n",
       "    </tr>\n",
       "    <tr>\n",
       "      <td>Securities Account</td>\n",
       "      <td>Yes</td>\n",
       "      <td>Yes</td>\n",
       "      <td>No</td>\n",
       "      <td>No</td>\n",
       "      <td>No</td>\n",
       "    </tr>\n",
       "    <tr>\n",
       "      <td>CD Account</td>\n",
       "      <td>0</td>\n",
       "      <td>0</td>\n",
       "      <td>0</td>\n",
       "      <td>0</td>\n",
       "      <td>0</td>\n",
       "    </tr>\n",
       "    <tr>\n",
       "      <td>Online</td>\n",
       "      <td>0</td>\n",
       "      <td>0</td>\n",
       "      <td>0</td>\n",
       "      <td>0</td>\n",
       "      <td>0</td>\n",
       "    </tr>\n",
       "    <tr>\n",
       "      <td>CreditCard</td>\n",
       "      <td>0</td>\n",
       "      <td>0</td>\n",
       "      <td>0</td>\n",
       "      <td>0</td>\n",
       "      <td>1</td>\n",
       "    </tr>\n",
       "    <tr>\n",
       "      <td>Education_Advanced/Professional</td>\n",
       "      <td>0</td>\n",
       "      <td>0</td>\n",
       "      <td>0</td>\n",
       "      <td>0</td>\n",
       "      <td>0</td>\n",
       "    </tr>\n",
       "    <tr>\n",
       "      <td>Education_Graduate</td>\n",
       "      <td>0</td>\n",
       "      <td>0</td>\n",
       "      <td>0</td>\n",
       "      <td>1</td>\n",
       "      <td>1</td>\n",
       "    </tr>\n",
       "    <tr>\n",
       "      <td>Education_Undergrad</td>\n",
       "      <td>1</td>\n",
       "      <td>1</td>\n",
       "      <td>1</td>\n",
       "      <td>0</td>\n",
       "      <td>0</td>\n",
       "    </tr>\n",
       "  </tbody>\n",
       "</table>\n",
       "</div>"
      ],
      "text/plain": [
       "                                     0      1      2      3      4\n",
       "ID                                   1      2      3      4      5\n",
       "Age                                 25     45     39     35     35\n",
       "Experience                           1     19     15      9      8\n",
       "Income                              49     34     11    100     45\n",
       "ZIP Code                         91107  90089  94720  94112  91330\n",
       "Family                               4      3      1      1      4\n",
       "CCAvg                              1.6    1.5      1    2.7      1\n",
       "Mortgage                             0      0      0      0      0\n",
       "Personal Loan                        0      0      0      0      0\n",
       "Securities Account                 Yes    Yes     No     No     No\n",
       "CD Account                           0      0      0      0      0\n",
       "Online                               0      0      0      0      0\n",
       "CreditCard                           0      0      0      0      1\n",
       "Education_Advanced/Professional      0      0      0      0      0\n",
       "Education_Graduate                   0      0      0      1      1\n",
       "Education_Undergrad                  1      1      1      0      0"
      ]
     },
     "execution_count": 37,
     "metadata": {},
     "output_type": "execute_result"
    }
   ],
   "source": [
    "Bank_Data['Securities Account'] = Bank_Data['Securities Account'].replace({0: 'No', 1: 'Yes'})\n",
    "Bank_Data.head().transpose()"
   ]
  },
  {
   "cell_type": "markdown",
   "metadata": {},
   "source": [
    "create 2 simple true or false columns with titles equivalent to \"Securities Account_No\"\t\"Securities Account_Yes\". These will be used as independent variables without imposing any kind of ordering between the two categories."
   ]
  },
  {
   "cell_type": "code",
   "execution_count": 38,
   "metadata": {},
   "outputs": [
    {
     "data": {
      "text/html": [
       "<div>\n",
       "<style scoped>\n",
       "    .dataframe tbody tr th:only-of-type {\n",
       "        vertical-align: middle;\n",
       "    }\n",
       "\n",
       "    .dataframe tbody tr th {\n",
       "        vertical-align: top;\n",
       "    }\n",
       "\n",
       "    .dataframe thead th {\n",
       "        text-align: right;\n",
       "    }\n",
       "</style>\n",
       "<table border=\"1\" class=\"dataframe\">\n",
       "  <thead>\n",
       "    <tr style=\"text-align: right;\">\n",
       "      <th></th>\n",
       "      <th>0</th>\n",
       "      <th>1</th>\n",
       "      <th>2</th>\n",
       "      <th>3</th>\n",
       "      <th>4</th>\n",
       "    </tr>\n",
       "  </thead>\n",
       "  <tbody>\n",
       "    <tr>\n",
       "      <td>ID</td>\n",
       "      <td>1.0</td>\n",
       "      <td>2.0</td>\n",
       "      <td>3.0</td>\n",
       "      <td>4.0</td>\n",
       "      <td>5.0</td>\n",
       "    </tr>\n",
       "    <tr>\n",
       "      <td>Age</td>\n",
       "      <td>25.0</td>\n",
       "      <td>45.0</td>\n",
       "      <td>39.0</td>\n",
       "      <td>35.0</td>\n",
       "      <td>35.0</td>\n",
       "    </tr>\n",
       "    <tr>\n",
       "      <td>Experience</td>\n",
       "      <td>1.0</td>\n",
       "      <td>19.0</td>\n",
       "      <td>15.0</td>\n",
       "      <td>9.0</td>\n",
       "      <td>8.0</td>\n",
       "    </tr>\n",
       "    <tr>\n",
       "      <td>Income</td>\n",
       "      <td>49.0</td>\n",
       "      <td>34.0</td>\n",
       "      <td>11.0</td>\n",
       "      <td>100.0</td>\n",
       "      <td>45.0</td>\n",
       "    </tr>\n",
       "    <tr>\n",
       "      <td>ZIP Code</td>\n",
       "      <td>91107.0</td>\n",
       "      <td>90089.0</td>\n",
       "      <td>94720.0</td>\n",
       "      <td>94112.0</td>\n",
       "      <td>91330.0</td>\n",
       "    </tr>\n",
       "    <tr>\n",
       "      <td>Family</td>\n",
       "      <td>4.0</td>\n",
       "      <td>3.0</td>\n",
       "      <td>1.0</td>\n",
       "      <td>1.0</td>\n",
       "      <td>4.0</td>\n",
       "    </tr>\n",
       "    <tr>\n",
       "      <td>CCAvg</td>\n",
       "      <td>1.6</td>\n",
       "      <td>1.5</td>\n",
       "      <td>1.0</td>\n",
       "      <td>2.7</td>\n",
       "      <td>1.0</td>\n",
       "    </tr>\n",
       "    <tr>\n",
       "      <td>Mortgage</td>\n",
       "      <td>0.0</td>\n",
       "      <td>0.0</td>\n",
       "      <td>0.0</td>\n",
       "      <td>0.0</td>\n",
       "      <td>0.0</td>\n",
       "    </tr>\n",
       "    <tr>\n",
       "      <td>Personal Loan</td>\n",
       "      <td>0.0</td>\n",
       "      <td>0.0</td>\n",
       "      <td>0.0</td>\n",
       "      <td>0.0</td>\n",
       "      <td>0.0</td>\n",
       "    </tr>\n",
       "    <tr>\n",
       "      <td>CD Account</td>\n",
       "      <td>0.0</td>\n",
       "      <td>0.0</td>\n",
       "      <td>0.0</td>\n",
       "      <td>0.0</td>\n",
       "      <td>0.0</td>\n",
       "    </tr>\n",
       "    <tr>\n",
       "      <td>Online</td>\n",
       "      <td>0.0</td>\n",
       "      <td>0.0</td>\n",
       "      <td>0.0</td>\n",
       "      <td>0.0</td>\n",
       "      <td>0.0</td>\n",
       "    </tr>\n",
       "    <tr>\n",
       "      <td>CreditCard</td>\n",
       "      <td>0.0</td>\n",
       "      <td>0.0</td>\n",
       "      <td>0.0</td>\n",
       "      <td>0.0</td>\n",
       "      <td>1.0</td>\n",
       "    </tr>\n",
       "    <tr>\n",
       "      <td>Education_Advanced/Professional</td>\n",
       "      <td>0.0</td>\n",
       "      <td>0.0</td>\n",
       "      <td>0.0</td>\n",
       "      <td>0.0</td>\n",
       "      <td>0.0</td>\n",
       "    </tr>\n",
       "    <tr>\n",
       "      <td>Education_Graduate</td>\n",
       "      <td>0.0</td>\n",
       "      <td>0.0</td>\n",
       "      <td>0.0</td>\n",
       "      <td>1.0</td>\n",
       "      <td>1.0</td>\n",
       "    </tr>\n",
       "    <tr>\n",
       "      <td>Education_Undergrad</td>\n",
       "      <td>1.0</td>\n",
       "      <td>1.0</td>\n",
       "      <td>1.0</td>\n",
       "      <td>0.0</td>\n",
       "      <td>0.0</td>\n",
       "    </tr>\n",
       "    <tr>\n",
       "      <td>Securities Account_No</td>\n",
       "      <td>0.0</td>\n",
       "      <td>0.0</td>\n",
       "      <td>1.0</td>\n",
       "      <td>1.0</td>\n",
       "      <td>1.0</td>\n",
       "    </tr>\n",
       "    <tr>\n",
       "      <td>Securities Account_Yes</td>\n",
       "      <td>1.0</td>\n",
       "      <td>1.0</td>\n",
       "      <td>0.0</td>\n",
       "      <td>0.0</td>\n",
       "      <td>0.0</td>\n",
       "    </tr>\n",
       "  </tbody>\n",
       "</table>\n",
       "</div>"
      ],
      "text/plain": [
       "                                       0        1        2        3        4\n",
       "ID                                   1.0      2.0      3.0      4.0      5.0\n",
       "Age                                 25.0     45.0     39.0     35.0     35.0\n",
       "Experience                           1.0     19.0     15.0      9.0      8.0\n",
       "Income                              49.0     34.0     11.0    100.0     45.0\n",
       "ZIP Code                         91107.0  90089.0  94720.0  94112.0  91330.0\n",
       "Family                               4.0      3.0      1.0      1.0      4.0\n",
       "CCAvg                                1.6      1.5      1.0      2.7      1.0\n",
       "Mortgage                             0.0      0.0      0.0      0.0      0.0\n",
       "Personal Loan                        0.0      0.0      0.0      0.0      0.0\n",
       "CD Account                           0.0      0.0      0.0      0.0      0.0\n",
       "Online                               0.0      0.0      0.0      0.0      0.0\n",
       "CreditCard                           0.0      0.0      0.0      0.0      1.0\n",
       "Education_Advanced/Professional      0.0      0.0      0.0      0.0      0.0\n",
       "Education_Graduate                   0.0      0.0      0.0      1.0      1.0\n",
       "Education_Undergrad                  1.0      1.0      1.0      0.0      0.0\n",
       "Securities Account_No                0.0      0.0      1.0      1.0      1.0\n",
       "Securities Account_Yes               1.0      1.0      0.0      0.0      0.0"
      ]
     },
     "execution_count": 38,
     "metadata": {},
     "output_type": "execute_result"
    }
   ],
   "source": [
    "Bank_Data = pd.get_dummies(Bank_Data, columns=['Securities Account'])\n",
    "Bank_Data.head().transpose()"
   ]
  },
  {
   "cell_type": "markdown",
   "metadata": {},
   "source": [
    "# 11. Study of CD Account"
   ]
  },
  {
   "cell_type": "code",
   "execution_count": 39,
   "metadata": {},
   "outputs": [
    {
     "data": {
      "text/plain": [
       "<matplotlib.axes._subplots.AxesSubplot at 0x22099e46dc8>"
      ]
     },
     "execution_count": 39,
     "metadata": {},
     "output_type": "execute_result"
    },
    {
     "data": {
      "image/png": "[encoded data removed]",
      "text/plain": [
       "<Figure size 432x288 with 1 Axes>"
      ]
     },
     "metadata": {
      "needs_background": "light"
     },
     "output_type": "display_data"
    }
   ],
   "source": [
    "#distribution of whether the customer have a certificate of deposit (CD) account with the bank?       \n",
    "sns.distplot(Bank_Data['CD Account'],kde=False, rug=True)"
   ]
  },
  {
   "cell_type": "code",
   "execution_count": 40,
   "metadata": {},
   "outputs": [
    {
     "data": {
      "text/plain": [
       "0    4698\n",
       "1     302\n",
       "Name: CD Account, dtype: int64"
      ]
     },
     "execution_count": 40,
     "metadata": {},
     "output_type": "execute_result"
    }
   ],
   "source": [
    "Bank_Data['CD Account'].value_counts() #gives count of every attributes of whether the customer have a certificate of deposit (CD) account with the bank?"
   ]
  },
  {
   "cell_type": "markdown",
   "metadata": {},
   "source": [
    "From above we can see that most of the customers does not have a certificate of deposit (CD) account with the bank."
   ]
  },
  {
   "cell_type": "markdown",
   "metadata": {},
   "source": [
    "As it is a categorical variable hence replacing it with one hot encoding"
   ]
  },
  {
   "cell_type": "code",
   "execution_count": 41,
   "metadata": {},
   "outputs": [
    {
     "data": {
      "text/html": [
       "<div>\n",
       "<style scoped>\n",
       "    .dataframe tbody tr th:only-of-type {\n",
       "        vertical-align: middle;\n",
       "    }\n",
       "\n",
       "    .dataframe tbody tr th {\n",
       "        vertical-align: top;\n",
       "    }\n",
       "\n",
       "    .dataframe thead th {\n",
       "        text-align: right;\n",
       "    }\n",
       "</style>\n",
       "<table border=\"1\" class=\"dataframe\">\n",
       "  <thead>\n",
       "    <tr style=\"text-align: right;\">\n",
       "      <th></th>\n",
       "      <th>0</th>\n",
       "      <th>1</th>\n",
       "      <th>2</th>\n",
       "      <th>3</th>\n",
       "      <th>4</th>\n",
       "    </tr>\n",
       "  </thead>\n",
       "  <tbody>\n",
       "    <tr>\n",
       "      <td>ID</td>\n",
       "      <td>1</td>\n",
       "      <td>2</td>\n",
       "      <td>3</td>\n",
       "      <td>4</td>\n",
       "      <td>5</td>\n",
       "    </tr>\n",
       "    <tr>\n",
       "      <td>Age</td>\n",
       "      <td>25</td>\n",
       "      <td>45</td>\n",
       "      <td>39</td>\n",
       "      <td>35</td>\n",
       "      <td>35</td>\n",
       "    </tr>\n",
       "    <tr>\n",
       "      <td>Experience</td>\n",
       "      <td>1</td>\n",
       "      <td>19</td>\n",
       "      <td>15</td>\n",
       "      <td>9</td>\n",
       "      <td>8</td>\n",
       "    </tr>\n",
       "    <tr>\n",
       "      <td>Income</td>\n",
       "      <td>49</td>\n",
       "      <td>34</td>\n",
       "      <td>11</td>\n",
       "      <td>100</td>\n",
       "      <td>45</td>\n",
       "    </tr>\n",
       "    <tr>\n",
       "      <td>ZIP Code</td>\n",
       "      <td>91107</td>\n",
       "      <td>90089</td>\n",
       "      <td>94720</td>\n",
       "      <td>94112</td>\n",
       "      <td>91330</td>\n",
       "    </tr>\n",
       "    <tr>\n",
       "      <td>Family</td>\n",
       "      <td>4</td>\n",
       "      <td>3</td>\n",
       "      <td>1</td>\n",
       "      <td>1</td>\n",
       "      <td>4</td>\n",
       "    </tr>\n",
       "    <tr>\n",
       "      <td>CCAvg</td>\n",
       "      <td>1.6</td>\n",
       "      <td>1.5</td>\n",
       "      <td>1</td>\n",
       "      <td>2.7</td>\n",
       "      <td>1</td>\n",
       "    </tr>\n",
       "    <tr>\n",
       "      <td>Mortgage</td>\n",
       "      <td>0</td>\n",
       "      <td>0</td>\n",
       "      <td>0</td>\n",
       "      <td>0</td>\n",
       "      <td>0</td>\n",
       "    </tr>\n",
       "    <tr>\n",
       "      <td>Personal Loan</td>\n",
       "      <td>0</td>\n",
       "      <td>0</td>\n",
       "      <td>0</td>\n",
       "      <td>0</td>\n",
       "      <td>0</td>\n",
       "    </tr>\n",
       "    <tr>\n",
       "      <td>CD Account</td>\n",
       "      <td>No</td>\n",
       "      <td>No</td>\n",
       "      <td>No</td>\n",
       "      <td>No</td>\n",
       "      <td>No</td>\n",
       "    </tr>\n",
       "    <tr>\n",
       "      <td>Online</td>\n",
       "      <td>0</td>\n",
       "      <td>0</td>\n",
       "      <td>0</td>\n",
       "      <td>0</td>\n",
       "      <td>0</td>\n",
       "    </tr>\n",
       "    <tr>\n",
       "      <td>CreditCard</td>\n",
       "      <td>0</td>\n",
       "      <td>0</td>\n",
       "      <td>0</td>\n",
       "      <td>0</td>\n",
       "      <td>1</td>\n",
       "    </tr>\n",
       "    <tr>\n",
       "      <td>Education_Advanced/Professional</td>\n",
       "      <td>0</td>\n",
       "      <td>0</td>\n",
       "      <td>0</td>\n",
       "      <td>0</td>\n",
       "      <td>0</td>\n",
       "    </tr>\n",
       "    <tr>\n",
       "      <td>Education_Graduate</td>\n",
       "      <td>0</td>\n",
       "      <td>0</td>\n",
       "      <td>0</td>\n",
       "      <td>1</td>\n",
       "      <td>1</td>\n",
       "    </tr>\n",
       "    <tr>\n",
       "      <td>Education_Undergrad</td>\n",
       "      <td>1</td>\n",
       "      <td>1</td>\n",
       "      <td>1</td>\n",
       "      <td>0</td>\n",
       "      <td>0</td>\n",
       "    </tr>\n",
       "    <tr>\n",
       "      <td>Securities Account_No</td>\n",
       "      <td>0</td>\n",
       "      <td>0</td>\n",
       "      <td>1</td>\n",
       "      <td>1</td>\n",
       "      <td>1</td>\n",
       "    </tr>\n",
       "    <tr>\n",
       "      <td>Securities Account_Yes</td>\n",
       "      <td>1</td>\n",
       "      <td>1</td>\n",
       "      <td>0</td>\n",
       "      <td>0</td>\n",
       "      <td>0</td>\n",
       "    </tr>\n",
       "  </tbody>\n",
       "</table>\n",
       "</div>"
      ],
      "text/plain": [
       "                                     0      1      2      3      4\n",
       "ID                                   1      2      3      4      5\n",
       "Age                                 25     45     39     35     35\n",
       "Experience                           1     19     15      9      8\n",
       "Income                              49     34     11    100     45\n",
       "ZIP Code                         91107  90089  94720  94112  91330\n",
       "Family                               4      3      1      1      4\n",
       "CCAvg                              1.6    1.5      1    2.7      1\n",
       "Mortgage                             0      0      0      0      0\n",
       "Personal Loan                        0      0      0      0      0\n",
       "CD Account                          No     No     No     No     No\n",
       "Online                               0      0      0      0      0\n",
       "CreditCard                           0      0      0      0      1\n",
       "Education_Advanced/Professional      0      0      0      0      0\n",
       "Education_Graduate                   0      0      0      1      1\n",
       "Education_Undergrad                  1      1      1      0      0\n",
       "Securities Account_No                0      0      1      1      1\n",
       "Securities Account_Yes               1      1      0      0      0"
      ]
     },
     "execution_count": 41,
     "metadata": {},
     "output_type": "execute_result"
    }
   ],
   "source": [
    "Bank_Data['CD Account'] = Bank_Data['CD Account'].replace({0: 'No', 1: 'Yes'})\n",
    "Bank_Data.head().transpose()"
   ]
  },
  {
   "cell_type": "markdown",
   "metadata": {},
   "source": [
    "create 2 simple true or false columns with titles equivalent to \"CD Account_No\"\t\"CD Account_Yes\". These will be used as independent variables without imposing any kind of ordering between the two categories."
   ]
  },
  {
   "cell_type": "code",
   "execution_count": 42,
   "metadata": {},
   "outputs": [
    {
     "data": {
      "text/html": [
       "<div>\n",
       "<style scoped>\n",
       "    .dataframe tbody tr th:only-of-type {\n",
       "        vertical-align: middle;\n",
       "    }\n",
       "\n",
       "    .dataframe tbody tr th {\n",
       "        vertical-align: top;\n",
       "    }\n",
       "\n",
       "    .dataframe thead th {\n",
       "        text-align: right;\n",
       "    }\n",
       "</style>\n",
       "<table border=\"1\" class=\"dataframe\">\n",
       "  <thead>\n",
       "    <tr style=\"text-align: right;\">\n",
       "      <th></th>\n",
       "      <th>0</th>\n",
       "      <th>1</th>\n",
       "      <th>2</th>\n",
       "      <th>3</th>\n",
       "      <th>4</th>\n",
       "    </tr>\n",
       "  </thead>\n",
       "  <tbody>\n",
       "    <tr>\n",
       "      <td>ID</td>\n",
       "      <td>1.0</td>\n",
       "      <td>2.0</td>\n",
       "      <td>3.0</td>\n",
       "      <td>4.0</td>\n",
       "      <td>5.0</td>\n",
       "    </tr>\n",
       "    <tr>\n",
       "      <td>Age</td>\n",
       "      <td>25.0</td>\n",
       "      <td>45.0</td>\n",
       "      <td>39.0</td>\n",
       "      <td>35.0</td>\n",
       "      <td>35.0</td>\n",
       "    </tr>\n",
       "    <tr>\n",
       "      <td>Experience</td>\n",
       "      <td>1.0</td>\n",
       "      <td>19.0</td>\n",
       "      <td>15.0</td>\n",
       "      <td>9.0</td>\n",
       "      <td>8.0</td>\n",
       "    </tr>\n",
       "    <tr>\n",
       "      <td>Income</td>\n",
       "      <td>49.0</td>\n",
       "      <td>34.0</td>\n",
       "      <td>11.0</td>\n",
       "      <td>100.0</td>\n",
       "      <td>45.0</td>\n",
       "    </tr>\n",
       "    <tr>\n",
       "      <td>ZIP Code</td>\n",
       "      <td>91107.0</td>\n",
       "      <td>90089.0</td>\n",
       "      <td>94720.0</td>\n",
       "      <td>94112.0</td>\n",
       "      <td>91330.0</td>\n",
       "    </tr>\n",
       "    <tr>\n",
       "      <td>Family</td>\n",
       "      <td>4.0</td>\n",
       "      <td>3.0</td>\n",
       "      <td>1.0</td>\n",
       "      <td>1.0</td>\n",
       "      <td>4.0</td>\n",
       "    </tr>\n",
       "    <tr>\n",
       "      <td>CCAvg</td>\n",
       "      <td>1.6</td>\n",
       "      <td>1.5</td>\n",
       "      <td>1.0</td>\n",
       "      <td>2.7</td>\n",
       "      <td>1.0</td>\n",
       "    </tr>\n",
       "    <tr>\n",
       "      <td>Mortgage</td>\n",
       "      <td>0.0</td>\n",
       "      <td>0.0</td>\n",
       "      <td>0.0</td>\n",
       "      <td>0.0</td>\n",
       "      <td>0.0</td>\n",
       "    </tr>\n",
       "    <tr>\n",
       "      <td>Personal Loan</td>\n",
       "      <td>0.0</td>\n",
       "      <td>0.0</td>\n",
       "      <td>0.0</td>\n",
       "      <td>0.0</td>\n",
       "      <td>0.0</td>\n",
       "    </tr>\n",
       "    <tr>\n",
       "      <td>Online</td>\n",
       "      <td>0.0</td>\n",
       "      <td>0.0</td>\n",
       "      <td>0.0</td>\n",
       "      <td>0.0</td>\n",
       "      <td>0.0</td>\n",
       "    </tr>\n",
       "    <tr>\n",
       "      <td>CreditCard</td>\n",
       "      <td>0.0</td>\n",
       "      <td>0.0</td>\n",
       "      <td>0.0</td>\n",
       "      <td>0.0</td>\n",
       "      <td>1.0</td>\n",
       "    </tr>\n",
       "    <tr>\n",
       "      <td>Education_Advanced/Professional</td>\n",
       "      <td>0.0</td>\n",
       "      <td>0.0</td>\n",
       "      <td>0.0</td>\n",
       "      <td>0.0</td>\n",
       "      <td>0.0</td>\n",
       "    </tr>\n",
       "    <tr>\n",
       "      <td>Education_Graduate</td>\n",
       "      <td>0.0</td>\n",
       "      <td>0.0</td>\n",
       "      <td>0.0</td>\n",
       "      <td>1.0</td>\n",
       "      <td>1.0</td>\n",
       "    </tr>\n",
       "    <tr>\n",
       "      <td>Education_Undergrad</td>\n",
       "      <td>1.0</td>\n",
       "      <td>1.0</td>\n",
       "      <td>1.0</td>\n",
       "      <td>0.0</td>\n",
       "      <td>0.0</td>\n",
       "    </tr>\n",
       "    <tr>\n",
       "      <td>Securities Account_No</td>\n",
       "      <td>0.0</td>\n",
       "      <td>0.0</td>\n",
       "      <td>1.0</td>\n",
       "      <td>1.0</td>\n",
       "      <td>1.0</td>\n",
       "    </tr>\n",
       "    <tr>\n",
       "      <td>Securities Account_Yes</td>\n",
       "      <td>1.0</td>\n",
       "      <td>1.0</td>\n",
       "      <td>0.0</td>\n",
       "      <td>0.0</td>\n",
       "      <td>0.0</td>\n",
       "    </tr>\n",
       "    <tr>\n",
       "      <td>CD Account_No</td>\n",
       "      <td>1.0</td>\n",
       "      <td>1.0</td>\n",
       "      <td>1.0</td>\n",
       "      <td>1.0</td>\n",
       "      <td>1.0</td>\n",
       "    </tr>\n",
       "    <tr>\n",
       "      <td>CD Account_Yes</td>\n",
       "      <td>0.0</td>\n",
       "      <td>0.0</td>\n",
       "      <td>0.0</td>\n",
       "      <td>0.0</td>\n",
       "      <td>0.0</td>\n",
       "    </tr>\n",
       "  </tbody>\n",
       "</table>\n",
       "</div>"
      ],
      "text/plain": [
       "                                       0        1        2        3        4\n",
       "ID                                   1.0      2.0      3.0      4.0      5.0\n",
       "Age                                 25.0     45.0     39.0     35.0     35.0\n",
       "Experience                           1.0     19.0     15.0      9.0      8.0\n",
       "Income                              49.0     34.0     11.0    100.0     45.0\n",
       "ZIP Code                         91107.0  90089.0  94720.0  94112.0  91330.0\n",
       "Family                               4.0      3.0      1.0      1.0      4.0\n",
       "CCAvg                                1.6      1.5      1.0      2.7      1.0\n",
       "Mortgage                             0.0      0.0      0.0      0.0      0.0\n",
       "Personal Loan                        0.0      0.0      0.0      0.0      0.0\n",
       "Online                               0.0      0.0      0.0      0.0      0.0\n",
       "CreditCard                           0.0      0.0      0.0      0.0      1.0\n",
       "Education_Advanced/Professional      0.0      0.0      0.0      0.0      0.0\n",
       "Education_Graduate                   0.0      0.0      0.0      1.0      1.0\n",
       "Education_Undergrad                  1.0      1.0      1.0      0.0      0.0\n",
       "Securities Account_No                0.0      0.0      1.0      1.0      1.0\n",
       "Securities Account_Yes               1.0      1.0      0.0      0.0      0.0\n",
       "CD Account_No                        1.0      1.0      1.0      1.0      1.0\n",
       "CD Account_Yes                       0.0      0.0      0.0      0.0      0.0"
      ]
     },
     "execution_count": 42,
     "metadata": {},
     "output_type": "execute_result"
    }
   ],
   "source": [
    "Bank_Data = pd.get_dummies(Bank_Data, columns=['CD Account'])\n",
    "Bank_Data.head().transpose()"
   ]
  },
  {
   "cell_type": "markdown",
   "metadata": {},
   "source": [
    "# 12. Study of Online"
   ]
  },
  {
   "cell_type": "code",
   "execution_count": 43,
   "metadata": {},
   "outputs": [
    {
     "data": {
      "text/plain": [
       "<matplotlib.axes._subplots.AxesSubplot at 0x2209a1e3848>"
      ]
     },
     "execution_count": 43,
     "metadata": {},
     "output_type": "execute_result"
    },
    {
     "data": {
      "image/png": "[encoded data removed]",
      "text/plain": [
       "<Figure size 432x288 with 1 Axes>"
      ]
     },
     "metadata": {
      "needs_background": "light"
     },
     "output_type": "display_data"
    }
   ],
   "source": [
    "#distribution of whether the customer use internet banking facilities?\n",
    "sns.distplot(Bank_Data['Online'],kde=False, rug=True)"
   ]
  },
  {
   "cell_type": "code",
   "execution_count": 44,
   "metadata": {},
   "outputs": [
    {
     "data": {
      "text/plain": [
       "1    2984\n",
       "0    2016\n",
       "Name: Online, dtype: int64"
      ]
     },
     "execution_count": 44,
     "metadata": {},
     "output_type": "execute_result"
    }
   ],
   "source": [
    "Bank_Data['Online'].value_counts() #gives count of every attributes of whether the customer use internet banking facilities?"
   ]
  },
  {
   "cell_type": "markdown",
   "metadata": {},
   "source": [
    "From above we can see that the number of customers who use internet banking facilities is slightly more than those who does not."
   ]
  },
  {
   "cell_type": "markdown",
   "metadata": {},
   "source": [
    "As it is a categorical variable hence replacing it with one hot encoding"
   ]
  },
  {
   "cell_type": "code",
   "execution_count": 45,
   "metadata": {},
   "outputs": [
    {
     "data": {
      "text/html": [
       "<div>\n",
       "<style scoped>\n",
       "    .dataframe tbody tr th:only-of-type {\n",
       "        vertical-align: middle;\n",
       "    }\n",
       "\n",
       "    .dataframe tbody tr th {\n",
       "        vertical-align: top;\n",
       "    }\n",
       "\n",
       "    .dataframe thead th {\n",
       "        text-align: right;\n",
       "    }\n",
       "</style>\n",
       "<table border=\"1\" class=\"dataframe\">\n",
       "  <thead>\n",
       "    <tr style=\"text-align: right;\">\n",
       "      <th></th>\n",
       "      <th>0</th>\n",
       "      <th>1</th>\n",
       "      <th>2</th>\n",
       "      <th>3</th>\n",
       "      <th>4</th>\n",
       "    </tr>\n",
       "  </thead>\n",
       "  <tbody>\n",
       "    <tr>\n",
       "      <td>ID</td>\n",
       "      <td>1</td>\n",
       "      <td>2</td>\n",
       "      <td>3</td>\n",
       "      <td>4</td>\n",
       "      <td>5</td>\n",
       "    </tr>\n",
       "    <tr>\n",
       "      <td>Age</td>\n",
       "      <td>25</td>\n",
       "      <td>45</td>\n",
       "      <td>39</td>\n",
       "      <td>35</td>\n",
       "      <td>35</td>\n",
       "    </tr>\n",
       "    <tr>\n",
       "      <td>Experience</td>\n",
       "      <td>1</td>\n",
       "      <td>19</td>\n",
       "      <td>15</td>\n",
       "      <td>9</td>\n",
       "      <td>8</td>\n",
       "    </tr>\n",
       "    <tr>\n",
       "      <td>Income</td>\n",
       "      <td>49</td>\n",
       "      <td>34</td>\n",
       "      <td>11</td>\n",
       "      <td>100</td>\n",
       "      <td>45</td>\n",
       "    </tr>\n",
       "    <tr>\n",
       "      <td>ZIP Code</td>\n",
       "      <td>91107</td>\n",
       "      <td>90089</td>\n",
       "      <td>94720</td>\n",
       "      <td>94112</td>\n",
       "      <td>91330</td>\n",
       "    </tr>\n",
       "    <tr>\n",
       "      <td>Family</td>\n",
       "      <td>4</td>\n",
       "      <td>3</td>\n",
       "      <td>1</td>\n",
       "      <td>1</td>\n",
       "      <td>4</td>\n",
       "    </tr>\n",
       "    <tr>\n",
       "      <td>CCAvg</td>\n",
       "      <td>1.6</td>\n",
       "      <td>1.5</td>\n",
       "      <td>1</td>\n",
       "      <td>2.7</td>\n",
       "      <td>1</td>\n",
       "    </tr>\n",
       "    <tr>\n",
       "      <td>Mortgage</td>\n",
       "      <td>0</td>\n",
       "      <td>0</td>\n",
       "      <td>0</td>\n",
       "      <td>0</td>\n",
       "      <td>0</td>\n",
       "    </tr>\n",
       "    <tr>\n",
       "      <td>Personal Loan</td>\n",
       "      <td>0</td>\n",
       "      <td>0</td>\n",
       "      <td>0</td>\n",
       "      <td>0</td>\n",
       "      <td>0</td>\n",
       "    </tr>\n",
       "    <tr>\n",
       "      <td>Online</td>\n",
       "      <td>No</td>\n",
       "      <td>No</td>\n",
       "      <td>No</td>\n",
       "      <td>No</td>\n",
       "      <td>No</td>\n",
       "    </tr>\n",
       "    <tr>\n",
       "      <td>CreditCard</td>\n",
       "      <td>0</td>\n",
       "      <td>0</td>\n",
       "      <td>0</td>\n",
       "      <td>0</td>\n",
       "      <td>1</td>\n",
       "    </tr>\n",
       "    <tr>\n",
       "      <td>Education_Advanced/Professional</td>\n",
       "      <td>0</td>\n",
       "      <td>0</td>\n",
       "      <td>0</td>\n",
       "      <td>0</td>\n",
       "      <td>0</td>\n",
       "    </tr>\n",
       "    <tr>\n",
       "      <td>Education_Graduate</td>\n",
       "      <td>0</td>\n",
       "      <td>0</td>\n",
       "      <td>0</td>\n",
       "      <td>1</td>\n",
       "      <td>1</td>\n",
       "    </tr>\n",
       "    <tr>\n",
       "      <td>Education_Undergrad</td>\n",
       "      <td>1</td>\n",
       "      <td>1</td>\n",
       "      <td>1</td>\n",
       "      <td>0</td>\n",
       "      <td>0</td>\n",
       "    </tr>\n",
       "    <tr>\n",
       "      <td>Securities Account_No</td>\n",
       "      <td>0</td>\n",
       "      <td>0</td>\n",
       "      <td>1</td>\n",
       "      <td>1</td>\n",
       "      <td>1</td>\n",
       "    </tr>\n",
       "    <tr>\n",
       "      <td>Securities Account_Yes</td>\n",
       "      <td>1</td>\n",
       "      <td>1</td>\n",
       "      <td>0</td>\n",
       "      <td>0</td>\n",
       "      <td>0</td>\n",
       "    </tr>\n",
       "    <tr>\n",
       "      <td>CD Account_No</td>\n",
       "      <td>1</td>\n",
       "      <td>1</td>\n",
       "      <td>1</td>\n",
       "      <td>1</td>\n",
       "      <td>1</td>\n",
       "    </tr>\n",
       "    <tr>\n",
       "      <td>CD Account_Yes</td>\n",
       "      <td>0</td>\n",
       "      <td>0</td>\n",
       "      <td>0</td>\n",
       "      <td>0</td>\n",
       "      <td>0</td>\n",
       "    </tr>\n",
       "  </tbody>\n",
       "</table>\n",
       "</div>"
      ],
      "text/plain": [
       "                                     0      1      2      3      4\n",
       "ID                                   1      2      3      4      5\n",
       "Age                                 25     45     39     35     35\n",
       "Experience                           1     19     15      9      8\n",
       "Income                              49     34     11    100     45\n",
       "ZIP Code                         91107  90089  94720  94112  91330\n",
       "Family                               4      3      1      1      4\n",
       "CCAvg                              1.6    1.5      1    2.7      1\n",
       "Mortgage                             0      0      0      0      0\n",
       "Personal Loan                        0      0      0      0      0\n",
       "Online                              No     No     No     No     No\n",
       "CreditCard                           0      0      0      0      1\n",
       "Education_Advanced/Professional      0      0      0      0      0\n",
       "Education_Graduate                   0      0      0      1      1\n",
       "Education_Undergrad                  1      1      1      0      0\n",
       "Securities Account_No                0      0      1      1      1\n",
       "Securities Account_Yes               1      1      0      0      0\n",
       "CD Account_No                        1      1      1      1      1\n",
       "CD Account_Yes                       0      0      0      0      0"
      ]
     },
     "execution_count": 45,
     "metadata": {},
     "output_type": "execute_result"
    }
   ],
   "source": [
    "Bank_Data['Online'] = Bank_Data['Online'].replace({0: 'No', 1: 'Yes'})\n",
    "Bank_Data.head().transpose()"
   ]
  },
  {
   "cell_type": "markdown",
   "metadata": {},
   "source": [
    "create 2 simple true or false columns with titles equivalent to \"Online_No\"\t\"Online_Yes\". These will be used as independent variables without imposing any kind of ordering between the two categories."
   ]
  },
  {
   "cell_type": "code",
   "execution_count": 46,
   "metadata": {},
   "outputs": [
    {
     "data": {
      "text/html": [
       "<div>\n",
       "<style scoped>\n",
       "    .dataframe tbody tr th:only-of-type {\n",
       "        vertical-align: middle;\n",
       "    }\n",
       "\n",
       "    .dataframe tbody tr th {\n",
       "        vertical-align: top;\n",
       "    }\n",
       "\n",
       "    .dataframe thead th {\n",
       "        text-align: right;\n",
       "    }\n",
       "</style>\n",
       "<table border=\"1\" class=\"dataframe\">\n",
       "  <thead>\n",
       "    <tr style=\"text-align: right;\">\n",
       "      <th></th>\n",
       "      <th>0</th>\n",
       "      <th>1</th>\n",
       "      <th>2</th>\n",
       "      <th>3</th>\n",
       "      <th>4</th>\n",
       "    </tr>\n",
       "  </thead>\n",
       "  <tbody>\n",
       "    <tr>\n",
       "      <td>ID</td>\n",
       "      <td>1.0</td>\n",
       "      <td>2.0</td>\n",
       "      <td>3.0</td>\n",
       "      <td>4.0</td>\n",
       "      <td>5.0</td>\n",
       "    </tr>\n",
       "    <tr>\n",
       "      <td>Age</td>\n",
       "      <td>25.0</td>\n",
       "      <td>45.0</td>\n",
       "      <td>39.0</td>\n",
       "      <td>35.0</td>\n",
       "      <td>35.0</td>\n",
       "    </tr>\n",
       "    <tr>\n",
       "      <td>Experience</td>\n",
       "      <td>1.0</td>\n",
       "      <td>19.0</td>\n",
       "      <td>15.0</td>\n",
       "      <td>9.0</td>\n",
       "      <td>8.0</td>\n",
       "    </tr>\n",
       "    <tr>\n",
       "      <td>Income</td>\n",
       "      <td>49.0</td>\n",
       "      <td>34.0</td>\n",
       "      <td>11.0</td>\n",
       "      <td>100.0</td>\n",
       "      <td>45.0</td>\n",
       "    </tr>\n",
       "    <tr>\n",
       "      <td>ZIP Code</td>\n",
       "      <td>91107.0</td>\n",
       "      <td>90089.0</td>\n",
       "      <td>94720.0</td>\n",
       "      <td>94112.0</td>\n",
       "      <td>91330.0</td>\n",
       "    </tr>\n",
       "    <tr>\n",
       "      <td>Family</td>\n",
       "      <td>4.0</td>\n",
       "      <td>3.0</td>\n",
       "      <td>1.0</td>\n",
       "      <td>1.0</td>\n",
       "      <td>4.0</td>\n",
       "    </tr>\n",
       "    <tr>\n",
       "      <td>CCAvg</td>\n",
       "      <td>1.6</td>\n",
       "      <td>1.5</td>\n",
       "      <td>1.0</td>\n",
       "      <td>2.7</td>\n",
       "      <td>1.0</td>\n",
       "    </tr>\n",
       "    <tr>\n",
       "      <td>Mortgage</td>\n",
       "      <td>0.0</td>\n",
       "      <td>0.0</td>\n",
       "      <td>0.0</td>\n",
       "      <td>0.0</td>\n",
       "      <td>0.0</td>\n",
       "    </tr>\n",
       "    <tr>\n",
       "      <td>Personal Loan</td>\n",
       "      <td>0.0</td>\n",
       "      <td>0.0</td>\n",
       "      <td>0.0</td>\n",
       "      <td>0.0</td>\n",
       "      <td>0.0</td>\n",
       "    </tr>\n",
       "    <tr>\n",
       "      <td>CreditCard</td>\n",
       "      <td>0.0</td>\n",
       "      <td>0.0</td>\n",
       "      <td>0.0</td>\n",
       "      <td>0.0</td>\n",
       "      <td>1.0</td>\n",
       "    </tr>\n",
       "    <tr>\n",
       "      <td>Education_Advanced/Professional</td>\n",
       "      <td>0.0</td>\n",
       "      <td>0.0</td>\n",
       "      <td>0.0</td>\n",
       "      <td>0.0</td>\n",
       "      <td>0.0</td>\n",
       "    </tr>\n",
       "    <tr>\n",
       "      <td>Education_Graduate</td>\n",
       "      <td>0.0</td>\n",
       "      <td>0.0</td>\n",
       "      <td>0.0</td>\n",
       "      <td>1.0</td>\n",
       "      <td>1.0</td>\n",
       "    </tr>\n",
       "    <tr>\n",
       "      <td>Education_Undergrad</td>\n",
       "      <td>1.0</td>\n",
       "      <td>1.0</td>\n",
       "      <td>1.0</td>\n",
       "      <td>0.0</td>\n",
       "      <td>0.0</td>\n",
       "    </tr>\n",
       "    <tr>\n",
       "      <td>Securities Account_No</td>\n",
       "      <td>0.0</td>\n",
       "      <td>0.0</td>\n",
       "      <td>1.0</td>\n",
       "      <td>1.0</td>\n",
       "      <td>1.0</td>\n",
       "    </tr>\n",
       "    <tr>\n",
       "      <td>Securities Account_Yes</td>\n",
       "      <td>1.0</td>\n",
       "      <td>1.0</td>\n",
       "      <td>0.0</td>\n",
       "      <td>0.0</td>\n",
       "      <td>0.0</td>\n",
       "    </tr>\n",
       "    <tr>\n",
       "      <td>CD Account_No</td>\n",
       "      <td>1.0</td>\n",
       "      <td>1.0</td>\n",
       "      <td>1.0</td>\n",
       "      <td>1.0</td>\n",
       "      <td>1.0</td>\n",
       "    </tr>\n",
       "    <tr>\n",
       "      <td>CD Account_Yes</td>\n",
       "      <td>0.0</td>\n",
       "      <td>0.0</td>\n",
       "      <td>0.0</td>\n",
       "      <td>0.0</td>\n",
       "      <td>0.0</td>\n",
       "    </tr>\n",
       "    <tr>\n",
       "      <td>Online_No</td>\n",
       "      <td>1.0</td>\n",
       "      <td>1.0</td>\n",
       "      <td>1.0</td>\n",
       "      <td>1.0</td>\n",
       "      <td>1.0</td>\n",
       "    </tr>\n",
       "    <tr>\n",
       "      <td>Online_Yes</td>\n",
       "      <td>0.0</td>\n",
       "      <td>0.0</td>\n",
       "      <td>0.0</td>\n",
       "      <td>0.0</td>\n",
       "      <td>0.0</td>\n",
       "    </tr>\n",
       "  </tbody>\n",
       "</table>\n",
       "</div>"
      ],
      "text/plain": [
       "                                       0        1        2        3        4\n",
       "ID                                   1.0      2.0      3.0      4.0      5.0\n",
       "Age                                 25.0     45.0     39.0     35.0     35.0\n",
       "Experience                           1.0     19.0     15.0      9.0      8.0\n",
       "Income                              49.0     34.0     11.0    100.0     45.0\n",
       "ZIP Code                         91107.0  90089.0  94720.0  94112.0  91330.0\n",
       "Family                               4.0      3.0      1.0      1.0      4.0\n",
       "CCAvg                                1.6      1.5      1.0      2.7      1.0\n",
       "Mortgage                             0.0      0.0      0.0      0.0      0.0\n",
       "Personal Loan                        0.0      0.0      0.0      0.0      0.0\n",
       "CreditCard                           0.0      0.0      0.0      0.0      1.0\n",
       "Education_Advanced/Professional      0.0      0.0      0.0      0.0      0.0\n",
       "Education_Graduate                   0.0      0.0      0.0      1.0      1.0\n",
       "Education_Undergrad                  1.0      1.0      1.0      0.0      0.0\n",
       "Securities Account_No                0.0      0.0      1.0      1.0      1.0\n",
       "Securities Account_Yes               1.0      1.0      0.0      0.0      0.0\n",
       "CD Account_No                        1.0      1.0      1.0      1.0      1.0\n",
       "CD Account_Yes                       0.0      0.0      0.0      0.0      0.0\n",
       "Online_No                            1.0      1.0      1.0      1.0      1.0\n",
       "Online_Yes                           0.0      0.0      0.0      0.0      0.0"
      ]
     },
     "execution_count": 46,
     "metadata": {},
     "output_type": "execute_result"
    }
   ],
   "source": [
    "Bank_Data = pd.get_dummies(Bank_Data, columns=['Online'])\n",
    "Bank_Data.head().transpose()"
   ]
  },
  {
   "cell_type": "markdown",
   "metadata": {},
   "source": [
    "# 13. Study of CreditCard"
   ]
  },
  {
   "cell_type": "code",
   "execution_count": 47,
   "metadata": {},
   "outputs": [
    {
     "data": {
      "text/plain": [
       "<matplotlib.axes._subplots.AxesSubplot at 0x2209a502048>"
      ]
     },
     "execution_count": 47,
     "metadata": {},
     "output_type": "execute_result"
    },
    {
     "data": {
      "image/png": "[encoded data removed]",
      "text/plain": [
       "<Figure size 432x288 with 1 Axes>"
      ]
     },
     "metadata": {
      "needs_background": "light"
     },
     "output_type": "display_data"
    }
   ],
   "source": [
    "#distribution of whether the customer use a credit card issued by Universal Bank?\n",
    "sns.distplot(Bank_Data['CreditCard'],kde=False, rug=True)"
   ]
  },
  {
   "cell_type": "code",
   "execution_count": 48,
   "metadata": {},
   "outputs": [
    {
     "data": {
      "text/plain": [
       "0    3530\n",
       "1    1470\n",
       "Name: CreditCard, dtype: int64"
      ]
     },
     "execution_count": 48,
     "metadata": {},
     "output_type": "execute_result"
    }
   ],
   "source": [
    "Bank_Data['CreditCard'].value_counts() #gives count of every attributes of whether the customer use a credit card issued by Universal Bank?"
   ]
  },
  {
   "cell_type": "markdown",
   "metadata": {},
   "source": [
    "From above we can see that most of the customers don't use credit card issued by Universal Bank."
   ]
  },
  {
   "cell_type": "markdown",
   "metadata": {},
   "source": [
    "As it is a categorical variable hence replacing it with one hot encoding"
   ]
  },
  {
   "cell_type": "code",
   "execution_count": 49,
   "metadata": {},
   "outputs": [
    {
     "data": {
      "text/html": [
       "<div>\n",
       "<style scoped>\n",
       "    .dataframe tbody tr th:only-of-type {\n",
       "        vertical-align: middle;\n",
       "    }\n",
       "\n",
       "    .dataframe tbody tr th {\n",
       "        vertical-align: top;\n",
       "    }\n",
       "\n",
       "    .dataframe thead th {\n",
       "        text-align: right;\n",
       "    }\n",
       "</style>\n",
       "<table border=\"1\" class=\"dataframe\">\n",
       "  <thead>\n",
       "    <tr style=\"text-align: right;\">\n",
       "      <th></th>\n",
       "      <th>0</th>\n",
       "      <th>1</th>\n",
       "      <th>2</th>\n",
       "      <th>3</th>\n",
       "      <th>4</th>\n",
       "    </tr>\n",
       "  </thead>\n",
       "  <tbody>\n",
       "    <tr>\n",
       "      <td>ID</td>\n",
       "      <td>1</td>\n",
       "      <td>2</td>\n",
       "      <td>3</td>\n",
       "      <td>4</td>\n",
       "      <td>5</td>\n",
       "    </tr>\n",
       "    <tr>\n",
       "      <td>Age</td>\n",
       "      <td>25</td>\n",
       "      <td>45</td>\n",
       "      <td>39</td>\n",
       "      <td>35</td>\n",
       "      <td>35</td>\n",
       "    </tr>\n",
       "    <tr>\n",
       "      <td>Experience</td>\n",
       "      <td>1</td>\n",
       "      <td>19</td>\n",
       "      <td>15</td>\n",
       "      <td>9</td>\n",
       "      <td>8</td>\n",
       "    </tr>\n",
       "    <tr>\n",
       "      <td>Income</td>\n",
       "      <td>49</td>\n",
       "      <td>34</td>\n",
       "      <td>11</td>\n",
       "      <td>100</td>\n",
       "      <td>45</td>\n",
       "    </tr>\n",
       "    <tr>\n",
       "      <td>ZIP Code</td>\n",
       "      <td>91107</td>\n",
       "      <td>90089</td>\n",
       "      <td>94720</td>\n",
       "      <td>94112</td>\n",
       "      <td>91330</td>\n",
       "    </tr>\n",
       "    <tr>\n",
       "      <td>Family</td>\n",
       "      <td>4</td>\n",
       "      <td>3</td>\n",
       "      <td>1</td>\n",
       "      <td>1</td>\n",
       "      <td>4</td>\n",
       "    </tr>\n",
       "    <tr>\n",
       "      <td>CCAvg</td>\n",
       "      <td>1.6</td>\n",
       "      <td>1.5</td>\n",
       "      <td>1</td>\n",
       "      <td>2.7</td>\n",
       "      <td>1</td>\n",
       "    </tr>\n",
       "    <tr>\n",
       "      <td>Mortgage</td>\n",
       "      <td>0</td>\n",
       "      <td>0</td>\n",
       "      <td>0</td>\n",
       "      <td>0</td>\n",
       "      <td>0</td>\n",
       "    </tr>\n",
       "    <tr>\n",
       "      <td>Personal Loan</td>\n",
       "      <td>0</td>\n",
       "      <td>0</td>\n",
       "      <td>0</td>\n",
       "      <td>0</td>\n",
       "      <td>0</td>\n",
       "    </tr>\n",
       "    <tr>\n",
       "      <td>CreditCard</td>\n",
       "      <td>No</td>\n",
       "      <td>No</td>\n",
       "      <td>No</td>\n",
       "      <td>No</td>\n",
       "      <td>Yes</td>\n",
       "    </tr>\n",
       "    <tr>\n",
       "      <td>Education_Advanced/Professional</td>\n",
       "      <td>0</td>\n",
       "      <td>0</td>\n",
       "      <td>0</td>\n",
       "      <td>0</td>\n",
       "      <td>0</td>\n",
       "    </tr>\n",
       "    <tr>\n",
       "      <td>Education_Graduate</td>\n",
       "      <td>0</td>\n",
       "      <td>0</td>\n",
       "      <td>0</td>\n",
       "      <td>1</td>\n",
       "      <td>1</td>\n",
       "    </tr>\n",
       "    <tr>\n",
       "      <td>Education_Undergrad</td>\n",
       "      <td>1</td>\n",
       "      <td>1</td>\n",
       "      <td>1</td>\n",
       "      <td>0</td>\n",
       "      <td>0</td>\n",
       "    </tr>\n",
       "    <tr>\n",
       "      <td>Securities Account_No</td>\n",
       "      <td>0</td>\n",
       "      <td>0</td>\n",
       "      <td>1</td>\n",
       "      <td>1</td>\n",
       "      <td>1</td>\n",
       "    </tr>\n",
       "    <tr>\n",
       "      <td>Securities Account_Yes</td>\n",
       "      <td>1</td>\n",
       "      <td>1</td>\n",
       "      <td>0</td>\n",
       "      <td>0</td>\n",
       "      <td>0</td>\n",
       "    </tr>\n",
       "    <tr>\n",
       "      <td>CD Account_No</td>\n",
       "      <td>1</td>\n",
       "      <td>1</td>\n",
       "      <td>1</td>\n",
       "      <td>1</td>\n",
       "      <td>1</td>\n",
       "    </tr>\n",
       "    <tr>\n",
       "      <td>CD Account_Yes</td>\n",
       "      <td>0</td>\n",
       "      <td>0</td>\n",
       "      <td>0</td>\n",
       "      <td>0</td>\n",
       "      <td>0</td>\n",
       "    </tr>\n",
       "    <tr>\n",
       "      <td>Online_No</td>\n",
       "      <td>1</td>\n",
       "      <td>1</td>\n",
       "      <td>1</td>\n",
       "      <td>1</td>\n",
       "      <td>1</td>\n",
       "    </tr>\n",
       "    <tr>\n",
       "      <td>Online_Yes</td>\n",
       "      <td>0</td>\n",
       "      <td>0</td>\n",
       "      <td>0</td>\n",
       "      <td>0</td>\n",
       "      <td>0</td>\n",
       "    </tr>\n",
       "  </tbody>\n",
       "</table>\n",
       "</div>"
      ],
      "text/plain": [
       "                                     0      1      2      3      4\n",
       "ID                                   1      2      3      4      5\n",
       "Age                                 25     45     39     35     35\n",
       "Experience                           1     19     15      9      8\n",
       "Income                              49     34     11    100     45\n",
       "ZIP Code                         91107  90089  94720  94112  91330\n",
       "Family                               4      3      1      1      4\n",
       "CCAvg                              1.6    1.5      1    2.7      1\n",
       "Mortgage                             0      0      0      0      0\n",
       "Personal Loan                        0      0      0      0      0\n",
       "CreditCard                          No     No     No     No    Yes\n",
       "Education_Advanced/Professional      0      0      0      0      0\n",
       "Education_Graduate                   0      0      0      1      1\n",
       "Education_Undergrad                  1      1      1      0      0\n",
       "Securities Account_No                0      0      1      1      1\n",
       "Securities Account_Yes               1      1      0      0      0\n",
       "CD Account_No                        1      1      1      1      1\n",
       "CD Account_Yes                       0      0      0      0      0\n",
       "Online_No                            1      1      1      1      1\n",
       "Online_Yes                           0      0      0      0      0"
      ]
     },
     "execution_count": 49,
     "metadata": {},
     "output_type": "execute_result"
    }
   ],
   "source": [
    "Bank_Data['CreditCard'] = Bank_Data['CreditCard'].replace({0: 'No', 1: 'Yes'})\n",
    "Bank_Data.head().transpose()"
   ]
  },
  {
   "cell_type": "markdown",
   "metadata": {},
   "source": [
    "create 2 simple true or false columns with titles equivalent to \"CreditCard_No\"\t\"CreditCard_Yes\". These will be used as independent variables without imposing any kind of ordering between the two categories."
   ]
  },
  {
   "cell_type": "code",
   "execution_count": 50,
   "metadata": {},
   "outputs": [
    {
     "data": {
      "text/html": [
       "<div>\n",
       "<style scoped>\n",
       "    .dataframe tbody tr th:only-of-type {\n",
       "        vertical-align: middle;\n",
       "    }\n",
       "\n",
       "    .dataframe tbody tr th {\n",
       "        vertical-align: top;\n",
       "    }\n",
       "\n",
       "    .dataframe thead th {\n",
       "        text-align: right;\n",
       "    }\n",
       "</style>\n",
       "<table border=\"1\" class=\"dataframe\">\n",
       "  <thead>\n",
       "    <tr style=\"text-align: right;\">\n",
       "      <th></th>\n",
       "      <th>0</th>\n",
       "      <th>1</th>\n",
       "      <th>2</th>\n",
       "      <th>3</th>\n",
       "      <th>4</th>\n",
       "    </tr>\n",
       "  </thead>\n",
       "  <tbody>\n",
       "    <tr>\n",
       "      <td>ID</td>\n",
       "      <td>1.0</td>\n",
       "      <td>2.0</td>\n",
       "      <td>3.0</td>\n",
       "      <td>4.0</td>\n",
       "      <td>5.0</td>\n",
       "    </tr>\n",
       "    <tr>\n",
       "      <td>Age</td>\n",
       "      <td>25.0</td>\n",
       "      <td>45.0</td>\n",
       "      <td>39.0</td>\n",
       "      <td>35.0</td>\n",
       "      <td>35.0</td>\n",
       "    </tr>\n",
       "    <tr>\n",
       "      <td>Experience</td>\n",
       "      <td>1.0</td>\n",
       "      <td>19.0</td>\n",
       "      <td>15.0</td>\n",
       "      <td>9.0</td>\n",
       "      <td>8.0</td>\n",
       "    </tr>\n",
       "    <tr>\n",
       "      <td>Income</td>\n",
       "      <td>49.0</td>\n",
       "      <td>34.0</td>\n",
       "      <td>11.0</td>\n",
       "      <td>100.0</td>\n",
       "      <td>45.0</td>\n",
       "    </tr>\n",
       "    <tr>\n",
       "      <td>ZIP Code</td>\n",
       "      <td>91107.0</td>\n",
       "      <td>90089.0</td>\n",
       "      <td>94720.0</td>\n",
       "      <td>94112.0</td>\n",
       "      <td>91330.0</td>\n",
       "    </tr>\n",
       "    <tr>\n",
       "      <td>Family</td>\n",
       "      <td>4.0</td>\n",
       "      <td>3.0</td>\n",
       "      <td>1.0</td>\n",
       "      <td>1.0</td>\n",
       "      <td>4.0</td>\n",
       "    </tr>\n",
       "    <tr>\n",
       "      <td>CCAvg</td>\n",
       "      <td>1.6</td>\n",
       "      <td>1.5</td>\n",
       "      <td>1.0</td>\n",
       "      <td>2.7</td>\n",
       "      <td>1.0</td>\n",
       "    </tr>\n",
       "    <tr>\n",
       "      <td>Mortgage</td>\n",
       "      <td>0.0</td>\n",
       "      <td>0.0</td>\n",
       "      <td>0.0</td>\n",
       "      <td>0.0</td>\n",
       "      <td>0.0</td>\n",
       "    </tr>\n",
       "    <tr>\n",
       "      <td>Personal Loan</td>\n",
       "      <td>0.0</td>\n",
       "      <td>0.0</td>\n",
       "      <td>0.0</td>\n",
       "      <td>0.0</td>\n",
       "      <td>0.0</td>\n",
       "    </tr>\n",
       "    <tr>\n",
       "      <td>Education_Advanced/Professional</td>\n",
       "      <td>0.0</td>\n",
       "      <td>0.0</td>\n",
       "      <td>0.0</td>\n",
       "      <td>0.0</td>\n",
       "      <td>0.0</td>\n",
       "    </tr>\n",
       "    <tr>\n",
       "      <td>Education_Graduate</td>\n",
       "      <td>0.0</td>\n",
       "      <td>0.0</td>\n",
       "      <td>0.0</td>\n",
       "      <td>1.0</td>\n",
       "      <td>1.0</td>\n",
       "    </tr>\n",
       "    <tr>\n",
       "      <td>Education_Undergrad</td>\n",
       "      <td>1.0</td>\n",
       "      <td>1.0</td>\n",
       "      <td>1.0</td>\n",
       "      <td>0.0</td>\n",
       "      <td>0.0</td>\n",
       "    </tr>\n",
       "    <tr>\n",
       "      <td>Securities Account_No</td>\n",
       "      <td>0.0</td>\n",
       "      <td>0.0</td>\n",
       "      <td>1.0</td>\n",
       "      <td>1.0</td>\n",
       "      <td>1.0</td>\n",
       "    </tr>\n",
       "    <tr>\n",
       "      <td>Securities Account_Yes</td>\n",
       "      <td>1.0</td>\n",
       "      <td>1.0</td>\n",
       "      <td>0.0</td>\n",
       "      <td>0.0</td>\n",
       "      <td>0.0</td>\n",
       "    </tr>\n",
       "    <tr>\n",
       "      <td>CD Account_No</td>\n",
       "      <td>1.0</td>\n",
       "      <td>1.0</td>\n",
       "      <td>1.0</td>\n",
       "      <td>1.0</td>\n",
       "      <td>1.0</td>\n",
       "    </tr>\n",
       "    <tr>\n",
       "      <td>CD Account_Yes</td>\n",
       "      <td>0.0</td>\n",
       "      <td>0.0</td>\n",
       "      <td>0.0</td>\n",
       "      <td>0.0</td>\n",
       "      <td>0.0</td>\n",
       "    </tr>\n",
       "    <tr>\n",
       "      <td>Online_No</td>\n",
       "      <td>1.0</td>\n",
       "      <td>1.0</td>\n",
       "      <td>1.0</td>\n",
       "      <td>1.0</td>\n",
       "      <td>1.0</td>\n",
       "    </tr>\n",
       "    <tr>\n",
       "      <td>Online_Yes</td>\n",
       "      <td>0.0</td>\n",
       "      <td>0.0</td>\n",
       "      <td>0.0</td>\n",
       "      <td>0.0</td>\n",
       "      <td>0.0</td>\n",
       "    </tr>\n",
       "    <tr>\n",
       "      <td>CreditCard_No</td>\n",
       "      <td>1.0</td>\n",
       "      <td>1.0</td>\n",
       "      <td>1.0</td>\n",
       "      <td>1.0</td>\n",
       "      <td>0.0</td>\n",
       "    </tr>\n",
       "    <tr>\n",
       "      <td>CreditCard_Yes</td>\n",
       "      <td>0.0</td>\n",
       "      <td>0.0</td>\n",
       "      <td>0.0</td>\n",
       "      <td>0.0</td>\n",
       "      <td>1.0</td>\n",
       "    </tr>\n",
       "  </tbody>\n",
       "</table>\n",
       "</div>"
      ],
      "text/plain": [
       "                                       0        1        2        3        4\n",
       "ID                                   1.0      2.0      3.0      4.0      5.0\n",
       "Age                                 25.0     45.0     39.0     35.0     35.0\n",
       "Experience                           1.0     19.0     15.0      9.0      8.0\n",
       "Income                              49.0     34.0     11.0    100.0     45.0\n",
       "ZIP Code                         91107.0  90089.0  94720.0  94112.0  91330.0\n",
       "Family                               4.0      3.0      1.0      1.0      4.0\n",
       "CCAvg                                1.6      1.5      1.0      2.7      1.0\n",
       "Mortgage                             0.0      0.0      0.0      0.0      0.0\n",
       "Personal Loan                        0.0      0.0      0.0      0.0      0.0\n",
       "Education_Advanced/Professional      0.0      0.0      0.0      0.0      0.0\n",
       "Education_Graduate                   0.0      0.0      0.0      1.0      1.0\n",
       "Education_Undergrad                  1.0      1.0      1.0      0.0      0.0\n",
       "Securities Account_No                0.0      0.0      1.0      1.0      1.0\n",
       "Securities Account_Yes               1.0      1.0      0.0      0.0      0.0\n",
       "CD Account_No                        1.0      1.0      1.0      1.0      1.0\n",
       "CD Account_Yes                       0.0      0.0      0.0      0.0      0.0\n",
       "Online_No                            1.0      1.0      1.0      1.0      1.0\n",
       "Online_Yes                           0.0      0.0      0.0      0.0      0.0\n",
       "CreditCard_No                        1.0      1.0      1.0      1.0      0.0\n",
       "CreditCard_Yes                       0.0      0.0      0.0      0.0      1.0"
      ]
     },
     "execution_count": 50,
     "metadata": {},
     "output_type": "execute_result"
    }
   ],
   "source": [
    "Bank_Data = pd.get_dummies(Bank_Data, columns=['CreditCard'])\n",
    "Bank_Data.head().transpose()"
   ]
  },
  {
   "cell_type": "markdown",
   "metadata": {},
   "source": [
    "# Step 3. Get the target column distribution. Your comments (5 marks)"
   ]
  },
  {
   "cell_type": "markdown",
   "metadata": {},
   "source": [
    "The target column is Personal Loan"
   ]
  },
  {
   "cell_type": "code",
   "execution_count": 51,
   "metadata": {},
   "outputs": [
    {
     "data": {
      "text/plain": [
       "<matplotlib.axes._subplots.AxesSubplot at 0x2209a824d08>"
      ]
     },
     "execution_count": 51,
     "metadata": {},
     "output_type": "execute_result"
    },
    {
     "data": {
      "image/png": "[encoded data removed]",
      "text/plain": [
       "<Figure size 432x288 with 1 Axes>"
      ]
     },
     "metadata": {
      "needs_background": "light"
     },
     "output_type": "display_data"
    }
   ],
   "source": [
    "#distribution of whether this customer accepted the personal loan offered in the last campaign?\n",
    "sns.distplot(Bank_Data['Personal Loan'],kde=False, rug=True)"
   ]
  },
  {
   "cell_type": "code",
   "execution_count": 52,
   "metadata": {},
   "outputs": [
    {
     "data": {
      "text/plain": [
       "0    4520\n",
       "1     480\n",
       "Name: Personal Loan, dtype: int64"
      ]
     },
     "execution_count": 52,
     "metadata": {},
     "output_type": "execute_result"
    }
   ],
   "source": [
    "Bank_Data['Personal Loan'].value_counts() #gives count of every attributes of whether this customer accepted the personal loan offered in the last campaign?"
   ]
  },
  {
   "cell_type": "markdown",
   "metadata": {},
   "source": [
    "From above we can see that most of the customers didn't accept the personal loan offered in the last campaign"
   ]
  },
  {
   "cell_type": "markdown",
   "metadata": {},
   "source": [
    "# Study of Relative distribution between different attributes of data"
   ]
  },
  {
   "cell_type": "markdown",
   "metadata": {},
   "source": [
    "# Correlation"
   ]
  },
  {
   "cell_type": "code",
   "execution_count": 53,
   "metadata": {},
   "outputs": [],
   "source": [
    "Bank_Data.drop(\"ID\", axis=1, inplace=True) #Removing ID from data as it does not effect the analysis"
   ]
  },
  {
   "cell_type": "code",
   "execution_count": 54,
   "metadata": {},
   "outputs": [
    {
     "name": "stdout",
     "output_type": "stream",
     "text": [
      "(5000, 19)\n"
     ]
    }
   ],
   "source": [
    "print(Bank_Data.shape) #prints the dimension of  data after doing one hot encoding and removing \"ID\""
   ]
  },
  {
   "cell_type": "code",
   "execution_count": 55,
   "metadata": {},
   "outputs": [
    {
     "data": {
      "text/html": [
       "<div>\n",
       "<style scoped>\n",
       "    .dataframe tbody tr th:only-of-type {\n",
       "        vertical-align: middle;\n",
       "    }\n",
       "\n",
       "    .dataframe tbody tr th {\n",
       "        vertical-align: top;\n",
       "    }\n",
       "\n",
       "    .dataframe thead th {\n",
       "        text-align: right;\n",
       "    }\n",
       "</style>\n",
       "<table border=\"1\" class=\"dataframe\">\n",
       "  <thead>\n",
       "    <tr style=\"text-align: right;\">\n",
       "      <th></th>\n",
       "      <th>Age</th>\n",
       "      <th>Experience</th>\n",
       "      <th>Income</th>\n",
       "      <th>ZIP Code</th>\n",
       "      <th>Family</th>\n",
       "      <th>CCAvg</th>\n",
       "      <th>Mortgage</th>\n",
       "      <th>Personal Loan</th>\n",
       "      <th>Education_Advanced/Professional</th>\n",
       "      <th>Education_Graduate</th>\n",
       "      <th>Education_Undergrad</th>\n",
       "      <th>Securities Account_No</th>\n",
       "      <th>Securities Account_Yes</th>\n",
       "      <th>CD Account_No</th>\n",
       "      <th>CD Account_Yes</th>\n",
       "      <th>Online_No</th>\n",
       "      <th>Online_Yes</th>\n",
       "      <th>CreditCard_No</th>\n",
       "      <th>CreditCard_Yes</th>\n",
       "    </tr>\n",
       "  </thead>\n",
       "  <tbody>\n",
       "    <tr>\n",
       "      <td>Age</td>\n",
       "      <td>1.000000</td>\n",
       "      <td>0.994215</td>\n",
       "      <td>-0.055269</td>\n",
       "      <td>-0.030530</td>\n",
       "      <td>-0.046418</td>\n",
       "      <td>-0.052012</td>\n",
       "      <td>-0.012539</td>\n",
       "      <td>-0.007726</td>\n",
       "      <td>0.045838</td>\n",
       "      <td>-0.016264</td>\n",
       "      <td>-0.027770</td>\n",
       "      <td>0.000436</td>\n",
       "      <td>-0.000436</td>\n",
       "      <td>-0.008043</td>\n",
       "      <td>0.008043</td>\n",
       "      <td>-0.013702</td>\n",
       "      <td>0.013702</td>\n",
       "      <td>-0.007681</td>\n",
       "      <td>0.007681</td>\n",
       "    </tr>\n",
       "    <tr>\n",
       "      <td>Experience</td>\n",
       "      <td>0.994215</td>\n",
       "      <td>1.000000</td>\n",
       "      <td>-0.046574</td>\n",
       "      <td>-0.030456</td>\n",
       "      <td>-0.052563</td>\n",
       "      <td>-0.050077</td>\n",
       "      <td>-0.010582</td>\n",
       "      <td>-0.007413</td>\n",
       "      <td>0.020967</td>\n",
       "      <td>-0.018197</td>\n",
       "      <td>-0.002907</td>\n",
       "      <td>0.001232</td>\n",
       "      <td>-0.001232</td>\n",
       "      <td>-0.010353</td>\n",
       "      <td>0.010353</td>\n",
       "      <td>-0.013898</td>\n",
       "      <td>0.013898</td>\n",
       "      <td>-0.008967</td>\n",
       "      <td>0.008967</td>\n",
       "    </tr>\n",
       "    <tr>\n",
       "      <td>Income</td>\n",
       "      <td>-0.055269</td>\n",
       "      <td>-0.046574</td>\n",
       "      <td>1.000000</td>\n",
       "      <td>-0.030708</td>\n",
       "      <td>-0.157501</td>\n",
       "      <td>0.645984</td>\n",
       "      <td>0.206806</td>\n",
       "      <td>0.502462</td>\n",
       "      <td>-0.108878</td>\n",
       "      <td>-0.128364</td>\n",
       "      <td>0.218019</td>\n",
       "      <td>0.002616</td>\n",
       "      <td>-0.002616</td>\n",
       "      <td>-0.169738</td>\n",
       "      <td>0.169738</td>\n",
       "      <td>-0.014206</td>\n",
       "      <td>0.014206</td>\n",
       "      <td>0.002385</td>\n",
       "      <td>-0.002385</td>\n",
       "    </tr>\n",
       "    <tr>\n",
       "      <td>ZIP Code</td>\n",
       "      <td>-0.030530</td>\n",
       "      <td>-0.030456</td>\n",
       "      <td>-0.030708</td>\n",
       "      <td>1.000000</td>\n",
       "      <td>0.027511</td>\n",
       "      <td>-0.012188</td>\n",
       "      <td>0.003614</td>\n",
       "      <td>-0.002974</td>\n",
       "      <td>-0.026612</td>\n",
       "      <td>0.038844</td>\n",
       "      <td>-0.010649</td>\n",
       "      <td>-0.002422</td>\n",
       "      <td>0.002422</td>\n",
       "      <td>-0.021671</td>\n",
       "      <td>0.021671</td>\n",
       "      <td>-0.028316</td>\n",
       "      <td>0.028316</td>\n",
       "      <td>-0.024032</td>\n",
       "      <td>0.024032</td>\n",
       "    </tr>\n",
       "    <tr>\n",
       "      <td>Family</td>\n",
       "      <td>-0.046418</td>\n",
       "      <td>-0.052563</td>\n",
       "      <td>-0.157501</td>\n",
       "      <td>0.027511</td>\n",
       "      <td>1.000000</td>\n",
       "      <td>-0.109275</td>\n",
       "      <td>-0.020445</td>\n",
       "      <td>0.061367</td>\n",
       "      <td>-0.008744</td>\n",
       "      <td>0.139201</td>\n",
       "      <td>-0.118628</td>\n",
       "      <td>-0.019994</td>\n",
       "      <td>0.019994</td>\n",
       "      <td>-0.014110</td>\n",
       "      <td>0.014110</td>\n",
       "      <td>-0.010354</td>\n",
       "      <td>0.010354</td>\n",
       "      <td>-0.011588</td>\n",
       "      <td>0.011588</td>\n",
       "    </tr>\n",
       "    <tr>\n",
       "      <td>CCAvg</td>\n",
       "      <td>-0.052012</td>\n",
       "      <td>-0.050077</td>\n",
       "      <td>0.645984</td>\n",
       "      <td>-0.012188</td>\n",
       "      <td>-0.109275</td>\n",
       "      <td>1.000000</td>\n",
       "      <td>0.109905</td>\n",
       "      <td>0.366889</td>\n",
       "      <td>-0.080413</td>\n",
       "      <td>-0.090366</td>\n",
       "      <td>0.156979</td>\n",
       "      <td>-0.015086</td>\n",
       "      <td>0.015086</td>\n",
       "      <td>-0.136534</td>\n",
       "      <td>0.136534</td>\n",
       "      <td>0.003611</td>\n",
       "      <td>-0.003611</td>\n",
       "      <td>0.006689</td>\n",
       "      <td>-0.006689</td>\n",
       "    </tr>\n",
       "    <tr>\n",
       "      <td>Mortgage</td>\n",
       "      <td>-0.012539</td>\n",
       "      <td>-0.010582</td>\n",
       "      <td>0.206806</td>\n",
       "      <td>0.003614</td>\n",
       "      <td>-0.020445</td>\n",
       "      <td>0.109905</td>\n",
       "      <td>1.000000</td>\n",
       "      <td>0.142095</td>\n",
       "      <td>-0.014942</td>\n",
       "      <td>-0.031806</td>\n",
       "      <td>0.042841</td>\n",
       "      <td>0.005411</td>\n",
       "      <td>-0.005411</td>\n",
       "      <td>-0.089311</td>\n",
       "      <td>0.089311</td>\n",
       "      <td>0.005995</td>\n",
       "      <td>-0.005995</td>\n",
       "      <td>0.007231</td>\n",
       "      <td>-0.007231</td>\n",
       "    </tr>\n",
       "    <tr>\n",
       "      <td>Personal Loan</td>\n",
       "      <td>-0.007726</td>\n",
       "      <td>-0.007413</td>\n",
       "      <td>0.502462</td>\n",
       "      <td>-0.002974</td>\n",
       "      <td>0.061367</td>\n",
       "      <td>0.366889</td>\n",
       "      <td>0.142095</td>\n",
       "      <td>1.000000</td>\n",
       "      <td>0.090212</td>\n",
       "      <td>0.071491</td>\n",
       "      <td>-0.148894</td>\n",
       "      <td>-0.021954</td>\n",
       "      <td>0.021954</td>\n",
       "      <td>-0.316355</td>\n",
       "      <td>0.316355</td>\n",
       "      <td>-0.006278</td>\n",
       "      <td>0.006278</td>\n",
       "      <td>-0.002802</td>\n",
       "      <td>0.002802</td>\n",
       "    </tr>\n",
       "    <tr>\n",
       "      <td>Education_Advanced/Professional</td>\n",
       "      <td>0.045838</td>\n",
       "      <td>0.020967</td>\n",
       "      <td>-0.108878</td>\n",
       "      <td>-0.026612</td>\n",
       "      <td>-0.008744</td>\n",
       "      <td>-0.080413</td>\n",
       "      <td>-0.014942</td>\n",
       "      <td>0.090212</td>\n",
       "      <td>1.000000</td>\n",
       "      <td>-0.409051</td>\n",
       "      <td>-0.556437</td>\n",
       "      <td>0.012421</td>\n",
       "      <td>-0.012421</td>\n",
       "      <td>-0.009780</td>\n",
       "      <td>0.009780</td>\n",
       "      <td>0.023837</td>\n",
       "      <td>-0.023837</td>\n",
       "      <td>0.004113</td>\n",
       "      <td>-0.004113</td>\n",
       "    </tr>\n",
       "    <tr>\n",
       "      <td>Education_Graduate</td>\n",
       "      <td>-0.016264</td>\n",
       "      <td>-0.018197</td>\n",
       "      <td>-0.128364</td>\n",
       "      <td>0.038844</td>\n",
       "      <td>0.139201</td>\n",
       "      <td>-0.090366</td>\n",
       "      <td>-0.031806</td>\n",
       "      <td>0.071491</td>\n",
       "      <td>-0.409051</td>\n",
       "      <td>1.000000</td>\n",
       "      <td>-0.530586</td>\n",
       "      <td>-0.005134</td>\n",
       "      <td>0.005134</td>\n",
       "      <td>-0.006089</td>\n",
       "      <td>0.006089</td>\n",
       "      <td>-0.020590</td>\n",
       "      <td>0.020590</td>\n",
       "      <td>0.012196</td>\n",
       "      <td>-0.012196</td>\n",
       "    </tr>\n",
       "    <tr>\n",
       "      <td>Education_Undergrad</td>\n",
       "      <td>-0.027770</td>\n",
       "      <td>-0.002907</td>\n",
       "      <td>0.218019</td>\n",
       "      <td>-0.010649</td>\n",
       "      <td>-0.118628</td>\n",
       "      <td>0.156979</td>\n",
       "      <td>0.042841</td>\n",
       "      <td>-0.148894</td>\n",
       "      <td>-0.556437</td>\n",
       "      <td>-0.530586</td>\n",
       "      <td>1.000000</td>\n",
       "      <td>-0.006863</td>\n",
       "      <td>0.006863</td>\n",
       "      <td>0.014630</td>\n",
       "      <td>-0.014630</td>\n",
       "      <td>-0.003394</td>\n",
       "      <td>0.003394</td>\n",
       "      <td>-0.014925</td>\n",
       "      <td>0.014925</td>\n",
       "    </tr>\n",
       "    <tr>\n",
       "      <td>Securities Account_No</td>\n",
       "      <td>0.000436</td>\n",
       "      <td>0.001232</td>\n",
       "      <td>0.002616</td>\n",
       "      <td>-0.002422</td>\n",
       "      <td>-0.019994</td>\n",
       "      <td>-0.015086</td>\n",
       "      <td>0.005411</td>\n",
       "      <td>-0.021954</td>\n",
       "      <td>0.012421</td>\n",
       "      <td>-0.005134</td>\n",
       "      <td>-0.006863</td>\n",
       "      <td>1.000000</td>\n",
       "      <td>-1.000000</td>\n",
       "      <td>0.317034</td>\n",
       "      <td>-0.317034</td>\n",
       "      <td>0.012627</td>\n",
       "      <td>-0.012627</td>\n",
       "      <td>-0.015028</td>\n",
       "      <td>0.015028</td>\n",
       "    </tr>\n",
       "    <tr>\n",
       "      <td>Securities Account_Yes</td>\n",
       "      <td>-0.000436</td>\n",
       "      <td>-0.001232</td>\n",
       "      <td>-0.002616</td>\n",
       "      <td>0.002422</td>\n",
       "      <td>0.019994</td>\n",
       "      <td>0.015086</td>\n",
       "      <td>-0.005411</td>\n",
       "      <td>0.021954</td>\n",
       "      <td>-0.012421</td>\n",
       "      <td>0.005134</td>\n",
       "      <td>0.006863</td>\n",
       "      <td>-1.000000</td>\n",
       "      <td>1.000000</td>\n",
       "      <td>-0.317034</td>\n",
       "      <td>0.317034</td>\n",
       "      <td>-0.012627</td>\n",
       "      <td>0.012627</td>\n",
       "      <td>0.015028</td>\n",
       "      <td>-0.015028</td>\n",
       "    </tr>\n",
       "    <tr>\n",
       "      <td>CD Account_No</td>\n",
       "      <td>-0.008043</td>\n",
       "      <td>-0.010353</td>\n",
       "      <td>-0.169738</td>\n",
       "      <td>-0.021671</td>\n",
       "      <td>-0.014110</td>\n",
       "      <td>-0.136534</td>\n",
       "      <td>-0.089311</td>\n",
       "      <td>-0.316355</td>\n",
       "      <td>-0.009780</td>\n",
       "      <td>-0.006089</td>\n",
       "      <td>0.014630</td>\n",
       "      <td>0.317034</td>\n",
       "      <td>-0.317034</td>\n",
       "      <td>1.000000</td>\n",
       "      <td>-1.000000</td>\n",
       "      <td>0.175880</td>\n",
       "      <td>-0.175880</td>\n",
       "      <td>0.278644</td>\n",
       "      <td>-0.278644</td>\n",
       "    </tr>\n",
       "    <tr>\n",
       "      <td>CD Account_Yes</td>\n",
       "      <td>0.008043</td>\n",
       "      <td>0.010353</td>\n",
       "      <td>0.169738</td>\n",
       "      <td>0.021671</td>\n",
       "      <td>0.014110</td>\n",
       "      <td>0.136534</td>\n",
       "      <td>0.089311</td>\n",
       "      <td>0.316355</td>\n",
       "      <td>0.009780</td>\n",
       "      <td>0.006089</td>\n",
       "      <td>-0.014630</td>\n",
       "      <td>-0.317034</td>\n",
       "      <td>0.317034</td>\n",
       "      <td>-1.000000</td>\n",
       "      <td>1.000000</td>\n",
       "      <td>-0.175880</td>\n",
       "      <td>0.175880</td>\n",
       "      <td>-0.278644</td>\n",
       "      <td>0.278644</td>\n",
       "    </tr>\n",
       "    <tr>\n",
       "      <td>Online_No</td>\n",
       "      <td>-0.013702</td>\n",
       "      <td>-0.013898</td>\n",
       "      <td>-0.014206</td>\n",
       "      <td>-0.028316</td>\n",
       "      <td>-0.010354</td>\n",
       "      <td>0.003611</td>\n",
       "      <td>0.005995</td>\n",
       "      <td>-0.006278</td>\n",
       "      <td>0.023837</td>\n",
       "      <td>-0.020590</td>\n",
       "      <td>-0.003394</td>\n",
       "      <td>0.012627</td>\n",
       "      <td>-0.012627</td>\n",
       "      <td>0.175880</td>\n",
       "      <td>-0.175880</td>\n",
       "      <td>1.000000</td>\n",
       "      <td>-1.000000</td>\n",
       "      <td>0.004210</td>\n",
       "      <td>-0.004210</td>\n",
       "    </tr>\n",
       "    <tr>\n",
       "      <td>Online_Yes</td>\n",
       "      <td>0.013702</td>\n",
       "      <td>0.013898</td>\n",
       "      <td>0.014206</td>\n",
       "      <td>0.028316</td>\n",
       "      <td>0.010354</td>\n",
       "      <td>-0.003611</td>\n",
       "      <td>-0.005995</td>\n",
       "      <td>0.006278</td>\n",
       "      <td>-0.023837</td>\n",
       "      <td>0.020590</td>\n",
       "      <td>0.003394</td>\n",
       "      <td>-0.012627</td>\n",
       "      <td>0.012627</td>\n",
       "      <td>-0.175880</td>\n",
       "      <td>0.175880</td>\n",
       "      <td>-1.000000</td>\n",
       "      <td>1.000000</td>\n",
       "      <td>-0.004210</td>\n",
       "      <td>0.004210</td>\n",
       "    </tr>\n",
       "    <tr>\n",
       "      <td>CreditCard_No</td>\n",
       "      <td>-0.007681</td>\n",
       "      <td>-0.008967</td>\n",
       "      <td>0.002385</td>\n",
       "      <td>-0.024032</td>\n",
       "      <td>-0.011588</td>\n",
       "      <td>0.006689</td>\n",
       "      <td>0.007231</td>\n",
       "      <td>-0.002802</td>\n",
       "      <td>0.004113</td>\n",
       "      <td>0.012196</td>\n",
       "      <td>-0.014925</td>\n",
       "      <td>-0.015028</td>\n",
       "      <td>0.015028</td>\n",
       "      <td>0.278644</td>\n",
       "      <td>-0.278644</td>\n",
       "      <td>0.004210</td>\n",
       "      <td>-0.004210</td>\n",
       "      <td>1.000000</td>\n",
       "      <td>-1.000000</td>\n",
       "    </tr>\n",
       "    <tr>\n",
       "      <td>CreditCard_Yes</td>\n",
       "      <td>0.007681</td>\n",
       "      <td>0.008967</td>\n",
       "      <td>-0.002385</td>\n",
       "      <td>0.024032</td>\n",
       "      <td>0.011588</td>\n",
       "      <td>-0.006689</td>\n",
       "      <td>-0.007231</td>\n",
       "      <td>0.002802</td>\n",
       "      <td>-0.004113</td>\n",
       "      <td>-0.012196</td>\n",
       "      <td>0.014925</td>\n",
       "      <td>0.015028</td>\n",
       "      <td>-0.015028</td>\n",
       "      <td>-0.278644</td>\n",
       "      <td>0.278644</td>\n",
       "      <td>-0.004210</td>\n",
       "      <td>0.004210</td>\n",
       "      <td>-1.000000</td>\n",
       "      <td>1.000000</td>\n",
       "    </tr>\n",
       "  </tbody>\n",
       "</table>\n",
       "</div>"
      ],
      "text/plain": [
       "                                      Age  Experience    Income  ZIP Code  \\\n",
       "Age                              1.000000    0.994215 -0.055269 -0.030530   \n",
       "Experience                       0.994215    1.000000 -0.046574 -0.030456   \n",
       "Income                          -0.055269   -0.046574  1.000000 -0.030708   \n",
       "ZIP Code                        -0.030530   -0.030456 -0.030708  1.000000   \n",
       "Family                          -0.046418   -0.052563 -0.157501  0.027511   \n",
       "CCAvg                           -0.052012   -0.050077  0.645984 -0.012188   \n",
       "Mortgage                        -0.012539   -0.010582  0.206806  0.003614   \n",
       "Personal Loan                   -0.007726   -0.007413  0.502462 -0.002974   \n",
       "Education_Advanced/Professional  0.045838    0.020967 -0.108878 -0.026612   \n",
       "Education_Graduate              -0.016264   -0.018197 -0.128364  0.038844   \n",
       "Education_Undergrad             -0.027770   -0.002907  0.218019 -0.010649   \n",
       "Securities Account_No            0.000436    0.001232  0.002616 -0.002422   \n",
       "Securities Account_Yes          -0.000436   -0.001232 -0.002616  0.002422   \n",
       "CD Account_No                   -0.008043   -0.010353 -0.169738 -0.021671   \n",
       "CD Account_Yes                   0.008043    0.010353  0.169738  0.021671   \n",
       "Online_No                       -0.013702   -0.013898 -0.014206 -0.028316   \n",
       "Online_Yes                       0.013702    0.013898  0.014206  0.028316   \n",
       "CreditCard_No                   -0.007681   -0.008967  0.002385 -0.024032   \n",
       "CreditCard_Yes                   0.007681    0.008967 -0.002385  0.024032   \n",
       "\n",
       "                                   Family     CCAvg  Mortgage  Personal Loan  \\\n",
       "Age                             -0.046418 -0.052012 -0.012539      -0.007726   \n",
       "Experience                      -0.052563 -0.050077 -0.010582      -0.007413   \n",
       "Income                          -0.157501  0.645984  0.206806       0.502462   \n",
       "ZIP Code                         0.027511 -0.012188  0.003614      -0.002974   \n",
       "Family                           1.000000 -0.109275 -0.020445       0.061367   \n",
       "CCAvg                           -0.109275  1.000000  0.109905       0.366889   \n",
       "Mortgage                        -0.020445  0.109905  1.000000       0.142095   \n",
       "Personal Loan                    0.061367  0.366889  0.142095       1.000000   \n",
       "Education_Advanced/Professional -0.008744 -0.080413 -0.014942       0.090212   \n",
       "Education_Graduate               0.139201 -0.090366 -0.031806       0.071491   \n",
       "Education_Undergrad             -0.118628  0.156979  0.042841      -0.148894   \n",
       "Securities Account_No           -0.019994 -0.015086  0.005411      -0.021954   \n",
       "Securities Account_Yes           0.019994  0.015086 -0.005411       0.021954   \n",
       "CD Account_No                   -0.014110 -0.136534 -0.089311      -0.316355   \n",
       "CD Account_Yes                   0.014110  0.136534  0.089311       0.316355   \n",
       "Online_No                       -0.010354  0.003611  0.005995      -0.006278   \n",
       "Online_Yes                       0.010354 -0.003611 -0.005995       0.006278   \n",
       "CreditCard_No                   -0.011588  0.006689  0.007231      -0.002802   \n",
       "CreditCard_Yes                   0.011588 -0.006689 -0.007231       0.002802   \n",
       "\n",
       "                                 Education_Advanced/Professional  \\\n",
       "Age                                                     0.045838   \n",
       "Experience                                              0.020967   \n",
       "Income                                                 -0.108878   \n",
       "ZIP Code                                               -0.026612   \n",
       "Family                                                 -0.008744   \n",
       "CCAvg                                                  -0.080413   \n",
       "Mortgage                                               -0.014942   \n",
       "Personal Loan                                           0.090212   \n",
       "Education_Advanced/Professional                         1.000000   \n",
       "Education_Graduate                                     -0.409051   \n",
       "Education_Undergrad                                    -0.556437   \n",
       "Securities Account_No                                   0.012421   \n",
       "Securities Account_Yes                                 -0.012421   \n",
       "CD Account_No                                          -0.009780   \n",
       "CD Account_Yes                                          0.009780   \n",
       "Online_No                                               0.023837   \n",
       "Online_Yes                                             -0.023837   \n",
       "CreditCard_No                                           0.004113   \n",
       "CreditCard_Yes                                         -0.004113   \n",
       "\n",
       "                                 Education_Graduate  Education_Undergrad  \\\n",
       "Age                                       -0.016264            -0.027770   \n",
       "Experience                                -0.018197            -0.002907   \n",
       "Income                                    -0.128364             0.218019   \n",
       "ZIP Code                                   0.038844            -0.010649   \n",
       "Family                                     0.139201            -0.118628   \n",
       "CCAvg                                     -0.090366             0.156979   \n",
       "Mortgage                                  -0.031806             0.042841   \n",
       "Personal Loan                              0.071491            -0.148894   \n",
       "Education_Advanced/Professional           -0.409051            -0.556437   \n",
       "Education_Graduate                         1.000000            -0.530586   \n",
       "Education_Undergrad                       -0.530586             1.000000   \n",
       "Securities Account_No                     -0.005134            -0.006863   \n",
       "Securities Account_Yes                     0.005134             0.006863   \n",
       "CD Account_No                             -0.006089             0.014630   \n",
       "CD Account_Yes                             0.006089            -0.014630   \n",
       "Online_No                                 -0.020590            -0.003394   \n",
       "Online_Yes                                 0.020590             0.003394   \n",
       "CreditCard_No                              0.012196            -0.014925   \n",
       "CreditCard_Yes                            -0.012196             0.014925   \n",
       "\n",
       "                                 Securities Account_No  \\\n",
       "Age                                           0.000436   \n",
       "Experience                                    0.001232   \n",
       "Income                                        0.002616   \n",
       "ZIP Code                                     -0.002422   \n",
       "Family                                       -0.019994   \n",
       "CCAvg                                        -0.015086   \n",
       "Mortgage                                      0.005411   \n",
       "Personal Loan                                -0.021954   \n",
       "Education_Advanced/Professional               0.012421   \n",
       "Education_Graduate                           -0.005134   \n",
       "Education_Undergrad                          -0.006863   \n",
       "Securities Account_No                         1.000000   \n",
       "Securities Account_Yes                       -1.000000   \n",
       "CD Account_No                                 0.317034   \n",
       "CD Account_Yes                               -0.317034   \n",
       "Online_No                                     0.012627   \n",
       "Online_Yes                                   -0.012627   \n",
       "CreditCard_No                                -0.015028   \n",
       "CreditCard_Yes                                0.015028   \n",
       "\n",
       "                                 Securities Account_Yes  CD Account_No  \\\n",
       "Age                                           -0.000436      -0.008043   \n",
       "Experience                                    -0.001232      -0.010353   \n",
       "Income                                        -0.002616      -0.169738   \n",
       "ZIP Code                                       0.002422      -0.021671   \n",
       "Family                                         0.019994      -0.014110   \n",
       "CCAvg                                          0.015086      -0.136534   \n",
       "Mortgage                                      -0.005411      -0.089311   \n",
       "Personal Loan                                  0.021954      -0.316355   \n",
       "Education_Advanced/Professional               -0.012421      -0.009780   \n",
       "Education_Graduate                             0.005134      -0.006089   \n",
       "Education_Undergrad                            0.006863       0.014630   \n",
       "Securities Account_No                         -1.000000       0.317034   \n",
       "Securities Account_Yes                         1.000000      -0.317034   \n",
       "CD Account_No                                 -0.317034       1.000000   \n",
       "CD Account_Yes                                 0.317034      -1.000000   \n",
       "Online_No                                     -0.012627       0.175880   \n",
       "Online_Yes                                     0.012627      -0.175880   \n",
       "CreditCard_No                                  0.015028       0.278644   \n",
       "CreditCard_Yes                                -0.015028      -0.278644   \n",
       "\n",
       "                                 CD Account_Yes  Online_No  Online_Yes  \\\n",
       "Age                                    0.008043  -0.013702    0.013702   \n",
       "Experience                             0.010353  -0.013898    0.013898   \n",
       "Income                                 0.169738  -0.014206    0.014206   \n",
       "ZIP Code                               0.021671  -0.028316    0.028316   \n",
       "Family                                 0.014110  -0.010354    0.010354   \n",
       "CCAvg                                  0.136534   0.003611   -0.003611   \n",
       "Mortgage                               0.089311   0.005995   -0.005995   \n",
       "Personal Loan                          0.316355  -0.006278    0.006278   \n",
       "Education_Advanced/Professional        0.009780   0.023837   -0.023837   \n",
       "Education_Graduate                     0.006089  -0.020590    0.020590   \n",
       "Education_Undergrad                   -0.014630  -0.003394    0.003394   \n",
       "Securities Account_No                 -0.317034   0.012627   -0.012627   \n",
       "Securities Account_Yes                 0.317034  -0.012627    0.012627   \n",
       "CD Account_No                         -1.000000   0.175880   -0.175880   \n",
       "CD Account_Yes                         1.000000  -0.175880    0.175880   \n",
       "Online_No                             -0.175880   1.000000   -1.000000   \n",
       "Online_Yes                             0.175880  -1.000000    1.000000   \n",
       "CreditCard_No                         -0.278644   0.004210   -0.004210   \n",
       "CreditCard_Yes                         0.278644  -0.004210    0.004210   \n",
       "\n",
       "                                 CreditCard_No  CreditCard_Yes  \n",
       "Age                                  -0.007681        0.007681  \n",
       "Experience                           -0.008967        0.008967  \n",
       "Income                                0.002385       -0.002385  \n",
       "ZIP Code                             -0.024032        0.024032  \n",
       "Family                               -0.011588        0.011588  \n",
       "CCAvg                                 0.006689       -0.006689  \n",
       "Mortgage                              0.007231       -0.007231  \n",
       "Personal Loan                        -0.002802        0.002802  \n",
       "Education_Advanced/Professional       0.004113       -0.004113  \n",
       "Education_Graduate                    0.012196       -0.012196  \n",
       "Education_Undergrad                  -0.014925        0.014925  \n",
       "Securities Account_No                -0.015028        0.015028  \n",
       "Securities Account_Yes                0.015028       -0.015028  \n",
       "CD Account_No                         0.278644       -0.278644  \n",
       "CD Account_Yes                       -0.278644        0.278644  \n",
       "Online_No                             0.004210       -0.004210  \n",
       "Online_Yes                           -0.004210        0.004210  \n",
       "CreditCard_No                         1.000000       -1.000000  \n",
       "CreditCard_Yes                       -1.000000        1.000000  "
      ]
     },
     "execution_count": 55,
     "metadata": {},
     "output_type": "execute_result"
    }
   ],
   "source": [
    "Bank_Data.corr()  # prints the correlation coefficient between every pair of attributes"
   ]
  },
  {
   "cell_type": "markdown",
   "metadata": {},
   "source": [
    "# Pairplot for checking the correlation"
   ]
  },
  {
   "cell_type": "code",
   "execution_count": null,
   "metadata": {},
   "outputs": [],
   "source": [
    "sns.pairplot(Bank_Data, kind=\"reg\")  # plots scatter plots for every pair of attributes and histograms along the diagonal\n",
    "plt.show()"
   ]
  },
  {
   "cell_type": "markdown",
   "metadata": {},
   "source": [
    "# Heatmap For checking the correlation"
   ]
  },
  {
   "cell_type": "code",
   "execution_count": null,
   "metadata": {},
   "outputs": [],
   "source": [
    "fig,ax = plt.subplots(figsize=(10, 10))   \n",
    "sns.heatmap(Bank_Data.corr(), ax=ax, annot=True, linewidths=0.05, fmt= '.2f',cmap=\"magma\")  \n",
    "plt.show() # the color intensity is based on correlation facror"
   ]
  },
  {
   "cell_type": "markdown",
   "metadata": {},
   "source": [
    "1. Here we can see that the Age and Experience are highly correlate with each other.\n",
    "2. Income and CCAvg are moderately correlated.\n",
    "3. None of the attributes are highly correlated with personal loan but Income is 50%, CCAvg is 37% and CD Account is 32% corrlated with personal loan."
   ]
  },
  {
   "cell_type": "markdown",
   "metadata": {},
   "source": [
    "# Step 4. Split the data into training and test set in the ratio of 70:30 respectively (5 marks)"
   ]
  },
  {
   "cell_type": "code",
   "execution_count": 56,
   "metadata": {},
   "outputs": [],
   "source": [
    "X = Bank_Data.drop(\"Personal Loan\" , axis=1) #input attributes are all the features of data except Personal Loan\n",
    "y = Bank_Data[\"Personal Loan\"] #Target attribute is Personal Loan of data"
   ]
  },
  {
   "cell_type": "code",
   "execution_count": 57,
   "metadata": {},
   "outputs": [
    {
     "data": {
      "text/html": [
       "<div>\n",
       "<style scoped>\n",
       "    .dataframe tbody tr th:only-of-type {\n",
       "        vertical-align: middle;\n",
       "    }\n",
       "\n",
       "    .dataframe tbody tr th {\n",
       "        vertical-align: top;\n",
       "    }\n",
       "\n",
       "    .dataframe thead th {\n",
       "        text-align: right;\n",
       "    }\n",
       "</style>\n",
       "<table border=\"1\" class=\"dataframe\">\n",
       "  <thead>\n",
       "    <tr style=\"text-align: right;\">\n",
       "      <th></th>\n",
       "      <th>count</th>\n",
       "      <th>mean</th>\n",
       "      <th>std</th>\n",
       "      <th>min</th>\n",
       "      <th>25%</th>\n",
       "      <th>50%</th>\n",
       "      <th>75%</th>\n",
       "      <th>max</th>\n",
       "    </tr>\n",
       "  </thead>\n",
       "  <tbody>\n",
       "    <tr>\n",
       "      <td>Age</td>\n",
       "      <td>5000.0</td>\n",
       "      <td>2.478018e-17</td>\n",
       "      <td>1.0001</td>\n",
       "      <td>-1.948906</td>\n",
       "      <td>-0.901970</td>\n",
       "      <td>-0.029524</td>\n",
       "      <td>0.842923</td>\n",
       "      <td>1.889859</td>\n",
       "    </tr>\n",
       "    <tr>\n",
       "      <td>Experience</td>\n",
       "      <td>5000.0</td>\n",
       "      <td>-1.693312e-16</td>\n",
       "      <td>1.0001</td>\n",
       "      <td>-2.014911</td>\n",
       "      <td>-0.881204</td>\n",
       "      <td>-0.009122</td>\n",
       "      <td>0.862960</td>\n",
       "      <td>1.996667</td>\n",
       "    </tr>\n",
       "    <tr>\n",
       "      <td>Income</td>\n",
       "      <td>5000.0</td>\n",
       "      <td>1.939449e-16</td>\n",
       "      <td>1.0001</td>\n",
       "      <td>-1.428969</td>\n",
       "      <td>-0.755483</td>\n",
       "      <td>-0.212348</td>\n",
       "      <td>0.526315</td>\n",
       "      <td>3.263712</td>\n",
       "    </tr>\n",
       "    <tr>\n",
       "      <td>ZIP Code</td>\n",
       "      <td>5000.0</td>\n",
       "      <td>-2.329215e-15</td>\n",
       "      <td>1.0001</td>\n",
       "      <td>-1.798609</td>\n",
       "      <td>-0.715211</td>\n",
       "      <td>0.152190</td>\n",
       "      <td>0.817803</td>\n",
       "      <td>1.979074</td>\n",
       "    </tr>\n",
       "    <tr>\n",
       "      <td>Family</td>\n",
       "      <td>5000.0</td>\n",
       "      <td>7.850609e-16</td>\n",
       "      <td>1.0001</td>\n",
       "      <td>-1.216855</td>\n",
       "      <td>-1.216855</td>\n",
       "      <td>-0.345432</td>\n",
       "      <td>0.525991</td>\n",
       "      <td>1.397414</td>\n",
       "    </tr>\n",
       "    <tr>\n",
       "      <td>CCAvg</td>\n",
       "      <td>5000.0</td>\n",
       "      <td>-2.078338e-17</td>\n",
       "      <td>1.0001</td>\n",
       "      <td>-1.108987</td>\n",
       "      <td>-0.708412</td>\n",
       "      <td>-0.250611</td>\n",
       "      <td>0.321641</td>\n",
       "      <td>4.613525</td>\n",
       "    </tr>\n",
       "    <tr>\n",
       "      <td>Mortgage</td>\n",
       "      <td>5000.0</td>\n",
       "      <td>2.810197e-16</td>\n",
       "      <td>1.0001</td>\n",
       "      <td>-0.555524</td>\n",
       "      <td>-0.555524</td>\n",
       "      <td>-0.555524</td>\n",
       "      <td>0.437558</td>\n",
       "      <td>5.688108</td>\n",
       "    </tr>\n",
       "    <tr>\n",
       "      <td>Education_Advanced/Professional</td>\n",
       "      <td>5000.0</td>\n",
       "      <td>-3.148592e-17</td>\n",
       "      <td>1.0001</td>\n",
       "      <td>-0.654965</td>\n",
       "      <td>-0.654965</td>\n",
       "      <td>-0.654965</td>\n",
       "      <td>1.526798</td>\n",
       "      <td>1.526798</td>\n",
       "    </tr>\n",
       "    <tr>\n",
       "      <td>Education_Graduate</td>\n",
       "      <td>5000.0</td>\n",
       "      <td>-2.122302e-16</td>\n",
       "      <td>1.0001</td>\n",
       "      <td>-0.624538</td>\n",
       "      <td>-0.624538</td>\n",
       "      <td>-0.624538</td>\n",
       "      <td>1.601185</td>\n",
       "      <td>1.601185</td>\n",
       "    </tr>\n",
       "    <tr>\n",
       "      <td>Education_Undergrad</td>\n",
       "      <td>5000.0</td>\n",
       "      <td>-6.365575e-16</td>\n",
       "      <td>1.0001</td>\n",
       "      <td>-0.849566</td>\n",
       "      <td>-0.849566</td>\n",
       "      <td>-0.849566</td>\n",
       "      <td>1.177071</td>\n",
       "      <td>1.177071</td>\n",
       "    </tr>\n",
       "    <tr>\n",
       "      <td>Securities Account_No</td>\n",
       "      <td>5000.0</td>\n",
       "      <td>-4.944267e-16</td>\n",
       "      <td>1.0001</td>\n",
       "      <td>-2.928915</td>\n",
       "      <td>0.341423</td>\n",
       "      <td>0.341423</td>\n",
       "      <td>0.341423</td>\n",
       "      <td>0.341423</td>\n",
       "    </tr>\n",
       "    <tr>\n",
       "      <td>Securities Account_Yes</td>\n",
       "      <td>5000.0</td>\n",
       "      <td>5.092149e-16</td>\n",
       "      <td>1.0001</td>\n",
       "      <td>-0.341423</td>\n",
       "      <td>-0.341423</td>\n",
       "      <td>-0.341423</td>\n",
       "      <td>-0.341423</td>\n",
       "      <td>2.928915</td>\n",
       "    </tr>\n",
       "    <tr>\n",
       "      <td>CD Account_No</td>\n",
       "      <td>5000.0</td>\n",
       "      <td>-4.426903e-16</td>\n",
       "      <td>1.0001</td>\n",
       "      <td>-3.944146</td>\n",
       "      <td>0.253540</td>\n",
       "      <td>0.253540</td>\n",
       "      <td>0.253540</td>\n",
       "      <td>0.253540</td>\n",
       "    </tr>\n",
       "    <tr>\n",
       "      <td>CD Account_Yes</td>\n",
       "      <td>5000.0</td>\n",
       "      <td>4.426903e-16</td>\n",
       "      <td>1.0001</td>\n",
       "      <td>-0.253540</td>\n",
       "      <td>-0.253540</td>\n",
       "      <td>-0.253540</td>\n",
       "      <td>-0.253540</td>\n",
       "      <td>3.944146</td>\n",
       "    </tr>\n",
       "    <tr>\n",
       "      <td>Online_No</td>\n",
       "      <td>5000.0</td>\n",
       "      <td>-2.986500e-16</td>\n",
       "      <td>1.0001</td>\n",
       "      <td>-0.821951</td>\n",
       "      <td>-0.821951</td>\n",
       "      <td>-0.821951</td>\n",
       "      <td>1.216618</td>\n",
       "      <td>1.216618</td>\n",
       "    </tr>\n",
       "    <tr>\n",
       "      <td>Online_Yes</td>\n",
       "      <td>5000.0</td>\n",
       "      <td>2.986500e-16</td>\n",
       "      <td>1.0001</td>\n",
       "      <td>-1.216618</td>\n",
       "      <td>-1.216618</td>\n",
       "      <td>0.821951</td>\n",
       "      <td>0.821951</td>\n",
       "      <td>0.821951</td>\n",
       "    </tr>\n",
       "    <tr>\n",
       "      <td>CreditCard_No</td>\n",
       "      <td>5000.0</td>\n",
       "      <td>3.743672e-16</td>\n",
       "      <td>1.0001</td>\n",
       "      <td>-1.549632</td>\n",
       "      <td>-1.549632</td>\n",
       "      <td>0.645314</td>\n",
       "      <td>0.645314</td>\n",
       "      <td>0.645314</td>\n",
       "    </tr>\n",
       "    <tr>\n",
       "      <td>CreditCard_Yes</td>\n",
       "      <td>5000.0</td>\n",
       "      <td>-3.697931e-16</td>\n",
       "      <td>1.0001</td>\n",
       "      <td>-0.645314</td>\n",
       "      <td>-0.645314</td>\n",
       "      <td>-0.645314</td>\n",
       "      <td>1.549632</td>\n",
       "      <td>1.549632</td>\n",
       "    </tr>\n",
       "  </tbody>\n",
       "</table>\n",
       "</div>"
      ],
      "text/plain": [
       "                                  count          mean     std       min  \\\n",
       "Age                              5000.0  2.478018e-17  1.0001 -1.948906   \n",
       "Experience                       5000.0 -1.693312e-16  1.0001 -2.014911   \n",
       "Income                           5000.0  1.939449e-16  1.0001 -1.428969   \n",
       "ZIP Code                         5000.0 -2.329215e-15  1.0001 -1.798609   \n",
       "Family                           5000.0  7.850609e-16  1.0001 -1.216855   \n",
       "CCAvg                            5000.0 -2.078338e-17  1.0001 -1.108987   \n",
       "Mortgage                         5000.0  2.810197e-16  1.0001 -0.555524   \n",
       "Education_Advanced/Professional  5000.0 -3.148592e-17  1.0001 -0.654965   \n",
       "Education_Graduate               5000.0 -2.122302e-16  1.0001 -0.624538   \n",
       "Education_Undergrad              5000.0 -6.365575e-16  1.0001 -0.849566   \n",
       "Securities Account_No            5000.0 -4.944267e-16  1.0001 -2.928915   \n",
       "Securities Account_Yes           5000.0  5.092149e-16  1.0001 -0.341423   \n",
       "CD Account_No                    5000.0 -4.426903e-16  1.0001 -3.944146   \n",
       "CD Account_Yes                   5000.0  4.426903e-16  1.0001 -0.253540   \n",
       "Online_No                        5000.0 -2.986500e-16  1.0001 -0.821951   \n",
       "Online_Yes                       5000.0  2.986500e-16  1.0001 -1.216618   \n",
       "CreditCard_No                    5000.0  3.743672e-16  1.0001 -1.549632   \n",
       "CreditCard_Yes                   5000.0 -3.697931e-16  1.0001 -0.645314   \n",
       "\n",
       "                                      25%       50%       75%       max  \n",
       "Age                             -0.901970 -0.029524  0.842923  1.889859  \n",
       "Experience                      -0.881204 -0.009122  0.862960  1.996667  \n",
       "Income                          -0.755483 -0.212348  0.526315  3.263712  \n",
       "ZIP Code                        -0.715211  0.152190  0.817803  1.979074  \n",
       "Family                          -1.216855 -0.345432  0.525991  1.397414  \n",
       "CCAvg                           -0.708412 -0.250611  0.321641  4.613525  \n",
       "Mortgage                        -0.555524 -0.555524  0.437558  5.688108  \n",
       "Education_Advanced/Professional -0.654965 -0.654965  1.526798  1.526798  \n",
       "Education_Graduate              -0.624538 -0.624538  1.601185  1.601185  \n",
       "Education_Undergrad             -0.849566 -0.849566  1.177071  1.177071  \n",
       "Securities Account_No            0.341423  0.341423  0.341423  0.341423  \n",
       "Securities Account_Yes          -0.341423 -0.341423 -0.341423  2.928915  \n",
       "CD Account_No                    0.253540  0.253540  0.253540  0.253540  \n",
       "CD Account_Yes                  -0.253540 -0.253540 -0.253540  3.944146  \n",
       "Online_No                       -0.821951 -0.821951  1.216618  1.216618  \n",
       "Online_Yes                      -1.216618  0.821951  0.821951  0.821951  \n",
       "CreditCard_No                   -1.549632  0.645314  0.645314  0.645314  \n",
       "CreditCard_Yes                  -0.645314 -0.645314  1.549632  1.549632  "
      ]
     },
     "execution_count": 57,
     "metadata": {},
     "output_type": "execute_result"
    }
   ],
   "source": [
    "# convert the features into z scores as we do not know what units / scales were used and store them in new dataframe\n",
    "# It is always adviced to scale numeric attributes in models that calculate distances.\n",
    "\n",
    "XScaled  = X.apply(zscore)  # convert all attributes to Z scale \n",
    "\n",
    "XScaled.describe().transpose()"
   ]
  },
  {
   "cell_type": "code",
   "execution_count": 58,
   "metadata": {},
   "outputs": [],
   "source": [
    "X_train, X_test, y_train, y_test = train_test_split(XScaled, y, test_size=.30, random_state=1) #split the data into test=30% and train=70%"
   ]
  },
  {
   "cell_type": "code",
   "execution_count": 59,
   "metadata": {},
   "outputs": [
    {
     "name": "stdout",
     "output_type": "stream",
     "text": [
      "(3500, 18)\n"
     ]
    }
   ],
   "source": [
    "print(X_train.shape) #prints the dimension of independent train data"
   ]
  },
  {
   "cell_type": "code",
   "execution_count": 60,
   "metadata": {},
   "outputs": [
    {
     "name": "stdout",
     "output_type": "stream",
     "text": [
      "(1500, 18)\n"
     ]
    }
   ],
   "source": [
    "print(X_test.shape) #prints the dimension of independent test data"
   ]
  },
  {
   "cell_type": "code",
   "execution_count": 61,
   "metadata": {},
   "outputs": [
    {
     "name": "stdout",
     "output_type": "stream",
     "text": [
      "(3500,)\n"
     ]
    }
   ],
   "source": [
    "print(y_train.shape) #prints the dimension of dependent train data"
   ]
  },
  {
   "cell_type": "code",
   "execution_count": 62,
   "metadata": {},
   "outputs": [
    {
     "name": "stdout",
     "output_type": "stream",
     "text": [
      "(1500,)\n"
     ]
    }
   ],
   "source": [
    "print(y_test.shape) #prints the dimension of dependent test data"
   ]
  },
  {
   "cell_type": "markdown",
   "metadata": {},
   "source": [
    "Check split of data"
   ]
  },
  {
   "cell_type": "code",
   "execution_count": 63,
   "metadata": {},
   "outputs": [
    {
     "name": "stdout",
     "output_type": "stream",
     "text": [
      "70.00% data is in training set\n",
      "30.00% data is in test set\n"
     ]
    }
   ],
   "source": [
    "print(\"{0:0.2f}% data is in training set\".format((len(X_train)/len(Bank_Data.index)) * 100))\n",
    "print(\"{0:0.2f}% data is in test set\".format((len(X_test)/len(Bank_Data.index)) * 100))"
   ]
  },
  {
   "cell_type": "markdown",
   "metadata": {},
   "source": [
    "Check Personal Loan True/False ratio in split data"
   ]
  },
  {
   "cell_type": "code",
   "execution_count": 64,
   "metadata": {},
   "outputs": [
    {
     "name": "stdout",
     "output_type": "stream",
     "text": [
      "Original Personal Loan True Values    : 480 (9.60%)\n",
      "Original Personal Loan False Values   : 4520 (90.40%)\n",
      "\n",
      "Training Personal Loan True Values    : 331 (9.46%)\n",
      "Training Personal Loan False Values   : 3169 (90.54%)\n",
      "\n",
      "Test Personal Loan True Values        : 149 (9.93%)\n",
      "Test Personal Loan False Values       : 1351 (90.07%)\n",
      "\n"
     ]
    }
   ],
   "source": [
    "print(\"Original Personal Loan True Values    : {0} ({1:0.2f}%)\".format(len(Bank_Data.loc[Bank_Data[\"Personal Loan\"] == 1]), (len(Bank_Data.loc[Bank_Data[\"Personal Loan\"] == 1])/len(Bank_Data.index)) * 100))\n",
    "print(\"Original Personal Loan False Values   : {0} ({1:0.2f}%)\".format(len(Bank_Data.loc[Bank_Data[\"Personal Loan\"] == 0]), (len(Bank_Data.loc[Bank_Data[\"Personal Loan\"] == 0])/len(Bank_Data.index)) * 100))\n",
    "print(\"\")\n",
    "print(\"Training Personal Loan True Values    : {0} ({1:0.2f}%)\".format(len(y_train[y_train[:] == 1]), (len(y_train[y_train[:] == 1])/len(y_train)) * 100))\n",
    "print(\"Training Personal Loan False Values   : {0} ({1:0.2f}%)\".format(len(y_train[y_train[:] == 0]), (len(y_train[y_train[:] == 0])/len(y_train)) * 100))\n",
    "print(\"\")\n",
    "print(\"Test Personal Loan True Values        : {0} ({1:0.2f}%)\".format(len(y_test[y_test[:] == 1]), (len(y_test[y_test[:] == 1])/len(y_test)) * 100))\n",
    "print(\"Test Personal Loan False Values       : {0} ({1:0.2f}%)\".format(len(y_test[y_test[:] == 0]), (len(y_test[y_test[:] == 0])/len(y_test)) * 100))\n",
    "print(\"\")"
   ]
  },
  {
   "cell_type": "markdown",
   "metadata": {},
   "source": [
    "# Step 5. Use different classification models (Logistic, K-NN and Naïve Bayes) to predict the likelihood of a customer buying personal loans (15 marks)"
   ]
  },
  {
   "cell_type": "markdown",
   "metadata": {},
   "source": [
    "# Logistic Regression Model"
   ]
  },
  {
   "cell_type": "code",
   "execution_count": 65,
   "metadata": {},
   "outputs": [
    {
     "name": "stdout",
     "output_type": "stream",
     "text": [
      "Coefficient of Logistic Regression Model =            0         1         2         3         4         5         6  \\\n",
      "0 -0.101998  0.156407  2.504658 -0.017073  0.685463  0.358407  0.099327   \n",
      "\n",
      "          7         8         9        10        11        12        13  \\\n",
      "0  0.651541  0.584327 -1.137276  0.166374 -0.166374 -0.430863  0.430863   \n",
      "\n",
      "         14        15        16        17  intercept  \n",
      "0  0.150103 -0.150103  0.226124 -0.226124  -4.811493  \n"
     ]
    }
   ],
   "source": [
    "from sklearn.linear_model import LogisticRegression\n",
    "\n",
    "# Create the Logistic model\n",
    "Logistic_model = LogisticRegression(solver=\"liblinear\")\n",
    "\n",
    "# Fit the Logistic model on train data\n",
    "Logistic_model.fit(X_train, y_train)\n",
    "\n",
    "# Predict the output on test data of Logistic model\n",
    "Logistic_y_predict = Logistic_model.predict(X_test)\n",
    "\n",
    "# Print the coefficient of Logistic model model\n",
    "Logistic_coef_df = pd.DataFrame(Logistic_model.coef_)\n",
    "Logistic_coef_df['intercept'] = Logistic_model.intercept_\n",
    "print(\"Coefficient of Logistic Regression Model = \",Logistic_coef_df)"
   ]
  },
  {
   "cell_type": "markdown",
   "metadata": {},
   "source": [
    "# Accuracy of Logistic model on train and test data"
   ]
  },
  {
   "cell_type": "code",
   "execution_count": 87,
   "metadata": {},
   "outputs": [
    {
     "name": "stdout",
     "output_type": "stream",
     "text": [
      "Accuracy of Logistic model on Train data is {0:.4f} 0.9571428571428572\n",
      "Accuracy of Logistic model on Test data is {0:.4f} 0.958\n"
     ]
    }
   ],
   "source": [
    "Logistic_train_accuracy = Logistic_model.score(X_train, y_train)\n",
    "print(\"Accuracy of Logistic model on Train data is {0:.4f}\",Logistic_train_accuracy)\n",
    "Logistic_test_accuracy = Logistic_model.score(X_test, y_test)\n",
    "print(\"Accuracy of Logistic model on Test data is {0:.4f}\",Logistic_test_accuracy)"
   ]
  },
  {
   "cell_type": "markdown",
   "metadata": {},
   "source": [
    "#  Naive Bayes Model"
   ]
  },
  {
   "cell_type": "code",
   "execution_count": 67,
   "metadata": {},
   "outputs": [],
   "source": [
    "from sklearn.naive_bayes import GaussianNB # using Gaussian algorithm from Naive Bayes\n",
    "\n",
    "# Create the Naive Bayes model\n",
    "NB_model = GaussianNB()\n",
    "\n",
    "# Fit the Naive Bayes model on train data\n",
    "NB_model.fit(X_train, y_train.ravel())\n",
    "\n",
    "# Predict the output on test data of Naive Bayes model\n",
    "NB_y_predict = NB_model.predict(X_test)"
   ]
  },
  {
   "cell_type": "markdown",
   "metadata": {},
   "source": [
    "# Accuracy of Naive Bayes model on train and test data"
   ]
  },
  {
   "cell_type": "code",
   "execution_count": 88,
   "metadata": {},
   "outputs": [
    {
     "name": "stdout",
     "output_type": "stream",
     "text": [
      "Accuracy of Naive Bayes model on Train data is {0:.4f} 0.8971428571428571\n",
      "Accuracy of Naive Bayes model on Test data is {0:.4f} 0.8853333333333333\n"
     ]
    }
   ],
   "source": [
    "NB_train_accuracy = NB_model.score(X_train, y_train)\n",
    "print(\"Accuracy of Naive Bayes model on Train data is {0:.4f}\",NB_train_accuracy)\n",
    "NB_test_accuracy = NB_model.score(X_test, y_test)\n",
    "print(\"Accuracy of Naive Bayes model on Test data is {0:.4f}\",NB_test_accuracy)"
   ]
  },
  {
   "cell_type": "markdown",
   "metadata": {},
   "source": [
    "# KNN Model"
   ]
  },
  {
   "cell_type": "code",
   "execution_count": 68,
   "metadata": {},
   "outputs": [],
   "source": [
    "from sklearn.neighbors import KNeighborsClassifier"
   ]
  },
  {
   "cell_type": "markdown",
   "metadata": {},
   "source": [
    "First we write code for choosing the value of k at which data has best performance then we biuld KNN model using that k"
   ]
  },
  {
   "cell_type": "code",
   "execution_count": 69,
   "metadata": {},
   "outputs": [],
   "source": [
    "KNN_accuracy =[]\n",
    "for k in range(1,50):\n",
    "    KNN_model = KNeighborsClassifier(n_neighbors = k, weights = 'distance' )\n",
    "    KNN_model.fit(X_train, y_train)\n",
    "    KNN_accuracy.append(KNN_model.score(X_test, y_test))"
   ]
  },
  {
   "cell_type": "code",
   "execution_count": 70,
   "metadata": {},
   "outputs": [
    {
     "data": {
      "text/plain": [
       "[<matplotlib.lines.Line2D at 0x2209ad87648>]"
      ]
     },
     "execution_count": 70,
     "metadata": {},
     "output_type": "execute_result"
    },
    {
     "data": {
      "image/png": "[encoded data removed]",
      "text/plain": [
       "<Figure size 432x288 with 1 Axes>"
      ]
     },
     "metadata": {
      "needs_background": "light"
     },
     "output_type": "display_data"
    }
   ],
   "source": [
    "plt.plot(range(1,50),KNN_accuracy)"
   ]
  },
  {
   "cell_type": "code",
   "execution_count": 75,
   "metadata": {},
   "outputs": [
    {
     "name": "stdout",
     "output_type": "stream",
     "text": [
      "0.9506666666666667\n"
     ]
    }
   ],
   "source": [
    "max_accuracy=max(KNN_accuracy) #Gives the value of maximum accuracy with respect to k value\n",
    "print(max_accuracy)"
   ]
  },
  {
   "cell_type": "code",
   "execution_count": 78,
   "metadata": {},
   "outputs": [
    {
     "name": "stdout",
     "output_type": "stream",
     "text": [
      "3\n"
     ]
    }
   ],
   "source": [
    "k_final = KNN_accuracy.index(max_accuracy) #Gives the corresponding value of k where it has maximum accuracy\n",
    "print(k_final)"
   ]
  },
  {
   "cell_type": "markdown",
   "metadata": {},
   "source": [
    "Build the KNN model taking k = from above"
   ]
  },
  {
   "cell_type": "code",
   "execution_count": 79,
   "metadata": {},
   "outputs": [],
   "source": [
    "# Create the KNN model\n",
    "KNN_model = KNeighborsClassifier(n_neighbors= k_final , weights = 'distance' )\n",
    "\n",
    "# Fit the KNN model on train data\n",
    "KNN_model.fit(X_train, y_train)\n",
    "\n",
    "# Predict the output on test data of KNN model\n",
    "KNN_y_predict = KNN_model.predict(X_test)"
   ]
  },
  {
   "cell_type": "markdown",
   "metadata": {},
   "source": [
    "# Accuracy of KNN model on train and test data"
   ]
  },
  {
   "cell_type": "code",
   "execution_count": 89,
   "metadata": {},
   "outputs": [
    {
     "name": "stdout",
     "output_type": "stream",
     "text": [
      "Accuracy of KNN model on Train data is {0:.4f} 1.0\n",
      "Accuracy of KNN model on Test data is {0:.4f} 0.9486666666666667\n"
     ]
    }
   ],
   "source": [
    "KNN_train_accuracy = KNN_model.score(X_train, y_train)\n",
    "print(\"Accuracy of KNN model on Train data is {0:.4f}\",KNN_train_accuracy)\n",
    "KNN_test_accuracy = KNN_model.score(X_test, y_test)\n",
    "print(\"Accuracy of KNN model on Test data is {0:.4f}\",KNN_test_accuracy)"
   ]
  },
  {
   "cell_type": "markdown",
   "metadata": {},
   "source": [
    "# Step 6. Print the confusion matrix for all the above models (5 marks)"
   ]
  },
  {
   "cell_type": "code",
   "execution_count": 80,
   "metadata": {},
   "outputs": [],
   "source": [
    "from sklearn import metrics"
   ]
  },
  {
   "cell_type": "markdown",
   "metadata": {},
   "source": [
    "# Logistic Confusion Matrix"
   ]
  },
  {
   "cell_type": "code",
   "execution_count": 81,
   "metadata": {},
   "outputs": [
    {
     "name": "stdout",
     "output_type": "stream",
     "text": [
      "Logistic Confusion Matrix= [[  98   51]\n",
      " [  12 1339]]\n"
     ]
    }
   ],
   "source": [
    "Logistic_cm=metrics.confusion_matrix(y_test, Logistic_y_predict, labels=[1, 0])\n",
    "print(\"Logistic Confusion Matrix=\",Logistic_cm)"
   ]
  },
  {
   "cell_type": "code",
   "execution_count": 82,
   "metadata": {},
   "outputs": [
    {
     "data": {
      "text/plain": [
       "<matplotlib.axes._subplots.AxesSubplot at 0x2209adbe288>"
      ]
     },
     "execution_count": 82,
     "metadata": {},
     "output_type": "execute_result"
    },
    {
     "data": {
      "image/png": "[encoded data removed]",
      "text/plain": [
       "<Figure size 504x360 with 2 Axes>"
      ]
     },
     "metadata": {
      "needs_background": "light"
     },
     "output_type": "display_data"
    }
   ],
   "source": [
    "#Code for pictorial representation of confusion matrix (Heatmap of confusion matrix)\n",
    "df_Logistic_cm = pd.DataFrame(Logistic_cm, index = [i for i in [\"1\",\"0\"]],\n",
    "                  columns = [i for i in [\"Predict 1\",\"Predict 0\"]])\n",
    "plt.figure(figsize = (7,5))\n",
    "sns.heatmap(df_Logistic_cm, annot=True)"
   ]
  },
  {
   "cell_type": "markdown",
   "metadata": {},
   "source": [
    "# Naive Bayes Confusion Matrix"
   ]
  },
  {
   "cell_type": "code",
   "execution_count": 83,
   "metadata": {},
   "outputs": [
    {
     "name": "stdout",
     "output_type": "stream",
     "text": [
      "Naive Bayes Confusion Matrix =  [[  75   74]\n",
      " [  98 1253]]\n"
     ]
    }
   ],
   "source": [
    "NB_cm=metrics.confusion_matrix(y_test, NB_y_predict, labels=[1, 0])\n",
    "print(\"Naive Bayes Confusion Matrix = \",NB_cm)"
   ]
  },
  {
   "cell_type": "code",
   "execution_count": 84,
   "metadata": {},
   "outputs": [
    {
     "data": {
      "text/plain": [
       "<matplotlib.axes._subplots.AxesSubplot at 0x2209aec3448>"
      ]
     },
     "execution_count": 84,
     "metadata": {},
     "output_type": "execute_result"
    },
    {
     "data": {
      "image/png": "[encoded data removed]",
      "text/plain": [
       "<Figure size 504x360 with 2 Axes>"
      ]
     },
     "metadata": {
      "needs_background": "light"
     },
     "output_type": "display_data"
    }
   ],
   "source": [
    "#Code for pictorial representation of confusion matrix (Heatmap of confusion matrix)\n",
    "df_NB_cm = pd.DataFrame(NB_cm, index = [i for i in [\"1\",\"0\"]],\n",
    "                  columns = [i for i in [\"Predict 1\",\"Predict 0\"]])\n",
    "plt.figure(figsize = (7,5))\n",
    "sns.heatmap(df_NB_cm, annot=True)"
   ]
  },
  {
   "cell_type": "markdown",
   "metadata": {},
   "source": [
    "# KNN Confusion Matrix"
   ]
  },
  {
   "cell_type": "code",
   "execution_count": 85,
   "metadata": {},
   "outputs": [
    {
     "name": "stdout",
     "output_type": "stream",
     "text": [
      "KNN Confusion Matrix =  [[  75   74]\n",
      " [  98 1253]]\n"
     ]
    }
   ],
   "source": [
    "KNN_cm=metrics.confusion_matrix(y_test, KNN_y_predict, labels=[1, 0])\n",
    "print(\"KNN Confusion Matrix = \",NB_cm)"
   ]
  },
  {
   "cell_type": "code",
   "execution_count": 86,
   "metadata": {},
   "outputs": [
    {
     "data": {
      "text/plain": [
       "<matplotlib.axes._subplots.AxesSubplot at 0x2209af57ec8>"
      ]
     },
     "execution_count": 86,
     "metadata": {},
     "output_type": "execute_result"
    },
    {
     "data": {
      "image/png": "[encoded data removed]",
      "text/plain": [
       "<Figure size 504x360 with 2 Axes>"
      ]
     },
     "metadata": {
      "needs_background": "light"
     },
     "output_type": "display_data"
    }
   ],
   "source": [
    "#Code for pictorial representation of confusion matrix (Heatmap of confusion matrix)\n",
    "df_KNN_cm = pd.DataFrame(KNN_cm, index = [i for i in [\"1\",\"0\"]],\n",
    "                  columns = [i for i in [\"Predict 1\",\"Predict 0\"]])\n",
    "plt.figure(figsize = (7,5))\n",
    "sns.heatmap(df_KNN_cm, annot=True)"
   ]
  },
  {
   "cell_type": "markdown",
   "metadata": {},
   "source": [
    "# Step 7. Give your reasoning on which is the best model in this case and why it performs better? (5 marks)"
   ]
  },
  {
   "cell_type": "markdown",
   "metadata": {},
   "source": [
    "# Performance of Logistic model "
   ]
  },
  {
   "cell_type": "code",
   "execution_count": 90,
   "metadata": {},
   "outputs": [
    {
     "name": "stdout",
     "output_type": "stream",
     "text": [
      "Logistic Regression Classification Report\n",
      "              precision    recall  f1-score   support\n",
      "\n",
      "           1       0.89      0.66      0.76       149\n",
      "           0       0.96      0.99      0.98      1351\n",
      "\n",
      "    accuracy                           0.96      1500\n",
      "   macro avg       0.93      0.82      0.87      1500\n",
      "weighted avg       0.96      0.96      0.96      1500\n",
      "\n"
     ]
    }
   ],
   "source": [
    "print(\"Logistic Regression Classification Report\")\n",
    "print(metrics.classification_report(y_test, Logistic_y_predict, labels=[1, 0]))"
   ]
  },
  {
   "cell_type": "markdown",
   "metadata": {},
   "source": [
    "We can see our true positive numbers with value 1 is of precision (out of all predicted what fration is actually true) = 89% and recall (out of all actual true what fraction is identified) = 66% is f1 score of true = 76% is above 70%"
   ]
  },
  {
   "cell_type": "markdown",
   "metadata": {},
   "source": [
    "# Performance of Naive Bayes model "
   ]
  },
  {
   "cell_type": "code",
   "execution_count": 91,
   "metadata": {},
   "outputs": [
    {
     "name": "stdout",
     "output_type": "stream",
     "text": [
      "Naive Bayes Classification Report\n",
      "              precision    recall  f1-score   support\n",
      "\n",
      "           1       0.43      0.50      0.47       149\n",
      "           0       0.94      0.93      0.94      1351\n",
      "\n",
      "    accuracy                           0.89      1500\n",
      "   macro avg       0.69      0.72      0.70      1500\n",
      "weighted avg       0.89      0.89      0.89      1500\n",
      "\n"
     ]
    }
   ],
   "source": [
    "print(\"Naive Bayes Classification Report\")\n",
    "print(metrics.classification_report(y_test, NB_y_predict, labels=[1, 0]))"
   ]
  },
  {
   "cell_type": "markdown",
   "metadata": {},
   "source": [
    "We can see our true positive numbers with value 1 is of precision (out of all predicted what fration is actually true) = 43% and recall (out of all actual true what fraction is identified) = 50% is f1 score of true = 47% is below 50%"
   ]
  },
  {
   "cell_type": "markdown",
   "metadata": {},
   "source": [
    "# Performance of KNN model "
   ]
  },
  {
   "cell_type": "code",
   "execution_count": 92,
   "metadata": {},
   "outputs": [
    {
     "name": "stdout",
     "output_type": "stream",
     "text": [
      "KNN Classification Report\n",
      "              precision    recall  f1-score   support\n",
      "\n",
      "           1       0.89      0.55      0.68       149\n",
      "           0       0.95      0.99      0.97      1351\n",
      "\n",
      "    accuracy                           0.95      1500\n",
      "   macro avg       0.92      0.77      0.83      1500\n",
      "weighted avg       0.95      0.95      0.94      1500\n",
      "\n"
     ]
    }
   ],
   "source": [
    "print(\"KNN Classification Report\")\n",
    "print(metrics.classification_report(y_test, KNN_y_predict, labels=[1, 0]))"
   ]
  },
  {
   "cell_type": "markdown",
   "metadata": {},
   "source": [
    "We can see our true positive numbers with value 1 is of precision (out of all predicted what fration is actually true) = 89% and recall (out of all actual true what fraction is identified) = 55% is f1 score of true = 68% is below 70%"
   ]
  },
  {
   "cell_type": "markdown",
   "metadata": {},
   "source": [
    "# From above analysis we say that Logistic regression model is best for this data having highest f1 score of 76%"
   ]
  },
  {
   "cell_type": "markdown",
   "metadata": {},
   "source": [
    "1. Logistic Regression model is best because it is best suited for all the attributes of dat \n",
    "2. The independent data also contains yes and no type categories having only two values whereas while modeling naive byes we make a typical assumption that the continuous values associated with each class are distributed according to a normal (or Gaussian) distribution.\n",
    "3. A drawback of KNN is the basic \"majority voting\" classification occurs when the class distribution is skewed, and the given data contains some skewed attributes as well."
   ]
  }
 ],
 "metadata": {
  "kernelspec": {
   "display_name": "Python 3",
   "language": "python",
   "name": "python3"
  },
  "language_info": {
   "codemirror_mode": {
    "name": "ipython",
    "version": 3
   },
   "file_extension": ".py",
   "mimetype": "text/x-python",
   "name": "python",
   "nbconvert_exporter": "python",
   "pygments_lexer": "ipython3",
   "version": "3.7.4"
  }
 },
 "nbformat": 4,
 "nbformat_minor": 2
}
